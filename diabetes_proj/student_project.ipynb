{
 "cells": [
  {
   "cell_type": "code",
   "execution_count": null,
   "metadata": {},
   "outputs": [],
   "source": []
  },
  {
   "cell_type": "markdown",
   "metadata": {},
   "source": [
    "# Overview"
   ]
  },
  {
   "cell_type": "markdown",
   "metadata": {},
   "source": [
    "1. Project Instructions & Prerequisites\n",
    "2. Learning Objectives\n",
    "3. Data Preparation\n",
    "4. Create Categorical Features with TF Feature Columns\n",
    "5. Create Continuous/Numerical Features with TF Feature Columns\n",
    "6. Build Deep Learning Regression Model with Sequential API and TF Probability Layers\n",
    "7. Evaluating Potential Model Biases with Aequitas Toolkit\n"
   ]
  },
  {
   "cell_type": "markdown",
   "metadata": {},
   "source": [
    "#  1. Project Instructions & Prerequisites"
   ]
  },
  {
   "cell_type": "markdown",
   "metadata": {},
   "source": [
    "## Project Instructions"
   ]
  },
  {
   "cell_type": "markdown",
   "metadata": {},
   "source": [
    "**Context**: EHR data is becoming a key source of real-world evidence (RWE) for the pharmaceutical industry and regulators to [make decisions on clinical trials](https://www.fda.gov/news-events/speeches-fda-officials/breaking-down-barriers-between-clinical-trials-and-clinical-care-incorporating-real-world-evidence). You are a data scientist for an exciting unicorn healthcare startup that has created a groundbreaking diabetes drug that is ready for clinical trial testing. It is a very unique and sensitive drug that requires administering the drug over at least 5-7 days of time in the hospital with frequent monitoring/testing and patient medication adherence training with a mobile application. You have been provided a patient dataset from a client partner and are tasked with building a predictive model that can identify which type of patients the company should focus their efforts testing this drug on. Target patients are people that are likely to be in the hospital for this duration of time and will not incur significant additional costs for administering this drug to the patient and monitoring.  \n",
    "\n",
    "In order to achieve your goal you must build a regression model that can predict the estimated hospitalization time for a patient and use this to select/filter patients for your study.\n"
   ]
  },
  {
   "cell_type": "markdown",
   "metadata": {},
   "source": [
    "**Expected Hospitalization Time Regression Model:** Utilizing a synthetic dataset(denormalized at the line level augmentation) built off of the UCI Diabetes readmission dataset, students will build a regression model that predicts the expected days of hospitalization time and then convert this to a binary prediction of whether to include or exclude that patient from the clinical trial.\n",
    "\n",
    "This project will demonstrate the importance of building the right data representation at the encounter level, with appropriate filtering and preprocessing/feature engineering of key medical code sets. This project will also require students to analyze and interpret their model for biases across key demographic groups. \n",
    "\n",
    "Please see the project rubric online for more details on the areas your project will be evaluated."
   ]
  },
  {
   "cell_type": "markdown",
   "metadata": {},
   "source": [
    "### Dataset"
   ]
  },
  {
   "cell_type": "markdown",
   "metadata": {},
   "source": [
    "Due to healthcare PHI regulations (HIPAA, HITECH), there are limited number of publicly available datasets and some datasets require training and approval. So, for the purpose of this exercise, we are using a dataset from UC Irvine(https://archive.ics.uci.edu/ml/datasets/Diabetes+130-US+hospitals+for+years+1999-2008) that has been modified for this course. Please note that it is limited in its representation of some key features such as diagnosis codes which are usually an unordered list in 835s/837s (the HL7 standard interchange formats used for claims and remits)."
   ]
  },
  {
   "cell_type": "markdown",
   "metadata": {},
   "source": [
    "**Data Schema**\n",
    "The dataset reference information can be https://github.com/udacity/nd320-c1-emr-data-starter/blob/master/project/data_schema_references/\n",
    ". There are two CSVs that provide more details on the fields and some of the mapped values."
   ]
  },
  {
   "cell_type": "markdown",
   "metadata": {},
   "source": [
    "## Project Submission "
   ]
  },
  {
   "cell_type": "markdown",
   "metadata": {},
   "source": [
    "When submitting this project, make sure to run all the cells before saving the notebook. Save the notebook file as \"student_project_submission.ipynb\" and save another copy as an HTML file by clicking \"File\" -> \"Download as..\"->\"html\". Include the \"utils.py\" and \"student_utils.py\" files in your submission. The student_utils.py should be where you put most of your code that you write and the summary and text explanations should be written inline in the notebook. Once you download these files, compress them into one zip file for submission."
   ]
  },
  {
   "cell_type": "markdown",
   "metadata": {},
   "source": [
    "## Prerequisites "
   ]
  },
  {
   "cell_type": "markdown",
   "metadata": {},
   "source": [
    "- Intermediate level knowledge of Python\n",
    "- Basic knowledge of probability and statistics\n",
    "- Basic knowledge of machine learning concepts\n",
    "- Installation of Tensorflow 2.0 and other dependencies(conda environment.yml or virtualenv requirements.txt file provided)"
   ]
  },
  {
   "cell_type": "markdown",
   "metadata": {},
   "source": [
    "## Environment Setup"
   ]
  },
  {
   "cell_type": "markdown",
   "metadata": {},
   "source": [
    "For step by step instructions on creating your environment, please go to https://github.com/udacity/nd320-c1-emr-data-starter/blob/master/project/README.md."
   ]
  },
  {
   "cell_type": "markdown",
   "metadata": {},
   "source": [
    "# 2.  Learning Objectives"
   ]
  },
  {
   "cell_type": "markdown",
   "metadata": {},
   "source": [
    "By the end of the project, you will be able to \n",
    "   - Use the Tensorflow Dataset API to scalably extract, transform, and load datasets and build datasets aggregated at the line, encounter, and patient data levels(longitudinal)\n",
    "   - Analyze EHR datasets to check for common issues (data leakage, statistical properties, missing values, high cardinality) by performing exploratory data analysis.\n",
    "   - Create categorical features from Key Industry Code Sets (ICD, CPT, NDC) and reduce dimensionality for high cardinality features by using embeddings \n",
    "   - Create derived features(bucketing, cross-features, embeddings) utilizing Tensorflow feature columns on both continuous and categorical input features\n",
    "   - SWBAT use the Tensorflow Probability library to train a model that provides uncertainty range predictions that allow for risk adjustment/prioritization and triaging of predictions\n",
    "   - Analyze and determine biases for a model for key demographic groups by evaluating performance metrics across groups by using the Aequitas framework \n"
   ]
  },
  {
   "cell_type": "markdown",
   "metadata": {},
   "source": [
    "# 3. Data Preparation"
   ]
  },
  {
   "cell_type": "code",
   "execution_count": 1,
   "metadata": {},
   "outputs": [
    {
     "name": "stdout",
     "output_type": "stream",
     "text": [
      "WARNING:tensorflow:From C:\\Users\\joshu\\AppData\\Local\\Programs\\Python\\Python310\\lib\\site-packages\\keras\\src\\losses.py:2976: The name tf.losses.sparse_softmax_cross_entropy is deprecated. Please use tf.compat.v1.losses.sparse_softmax_cross_entropy instead.\n",
      "\n",
      "WARNING:tensorflow:From C:\\Users\\joshu\\AppData\\Local\\Programs\\Python\\Python310\\lib\\site-packages\\tensorflow_probability\\python\\internal\\backend\\numpy\\_utils.py:48: The name tf.logging.TaskLevelStatusMessage is deprecated. Please use tf.compat.v1.logging.TaskLevelStatusMessage instead.\n",
      "\n",
      "WARNING:tensorflow:From C:\\Users\\joshu\\AppData\\Local\\Programs\\Python\\Python310\\lib\\site-packages\\tensorflow_probability\\python\\internal\\backend\\numpy\\_utils.py:48: The name tf.control_flow_v2_enabled is deprecated. Please use tf.compat.v1.control_flow_v2_enabled instead.\n",
      "\n",
      "WARNING:tensorflow:From C:\\Users\\joshu\\AppData\\Roaming\\Python\\Python310\\site-packages\\tfx_bsl\\types\\common_types.py:27: The name tf.ragged.RaggedTensorValue is deprecated. Please use tf.compat.v1.ragged.RaggedTensorValue instead.\n",
      "\n"
     ]
    }
   ],
   "source": [
    "# from __future__ import absolute_import, division, print_function, unicode_literals\n",
    "import os\n",
    "import numpy as np\n",
    "import tensorflow as tf\n",
    "from tensorflow.keras import layers\n",
    "import tensorflow_probability as tfp\n",
    "import matplotlib.pyplot as plt\n",
    "import pandas as pd\n",
    "import aequitas as ae\n",
    "import tensorflow_data_validation as tfdv \n",
    "# Put all of the helper functions in utils\n",
    "from utils import build_vocab_files, show_group_stats_viz, aggregate_dataset, preprocess_df, df_to_dataset, posterior_mean_field, prior_trainable\n",
    "pd.set_option('display.max_columns', 500)\n",
    "# this allows you to make changes and save in student_utils.py and the file is reloaded every time you run a code block\n",
    "%load_ext autoreload\n",
    "%autoreload"
   ]
  },
  {
   "cell_type": "code",
   "execution_count": 2,
   "metadata": {},
   "outputs": [],
   "source": [
    "#OPEN ISSUE ON MAC OSX for TF model training\n",
    "import os\n",
    "os.environ['KMP_DUPLICATE_LIB_OK']='True'"
   ]
  },
  {
   "cell_type": "markdown",
   "metadata": {},
   "source": [
    "## Dataset Loading and Schema Review"
   ]
  },
  {
   "cell_type": "markdown",
   "metadata": {},
   "source": [
    "Load the dataset and view a sample of the dataset along with reviewing the schema reference files to gain a deeper understanding of the dataset. The dataset is located at the following path https://github.com/udacity/nd320-c1-emr-data-starter/blob/master/project/starter_code/data/final_project_dataset.csv. Also, review the information found in the data schema https://github.com/udacity/nd320-c1-emr-data-starter/blob/master/project/data_schema_references/"
   ]
  },
  {
   "cell_type": "code",
   "execution_count": 3,
   "metadata": {},
   "outputs": [],
   "source": [
    "dataset_path = \"./diabetes/diabetic_data.csv\"\n",
    "df = pd.read_csv(dataset_path)"
   ]
  },
  {
   "cell_type": "markdown",
   "metadata": {},
   "source": [
    "## Determine Level of Dataset (Line or Encounter)"
   ]
  },
  {
   "cell_type": "markdown",
   "metadata": {},
   "source": [
    "**Question 1**: Based off of analysis of the data, what level is this dataset? Is it at the line or encounter level? Are there any key fields besides the encounter_id and patient_nbr fields that we should use to aggregate on? Knowing this information will help inform us what level of aggregation is necessary for future steps and is a step that is often overlooked. "
   ]
  },
  {
   "cell_type": "markdown",
   "metadata": {},
   "source": [
    "Student Response:??"
   ]
  },
  {
   "cell_type": "markdown",
   "metadata": {},
   "source": [
    "## Analyze Dataset"
   ]
  },
  {
   "cell_type": "markdown",
   "metadata": {},
   "source": [
    "**Question 2**: Utilizing the library of your choice (recommend Pandas and Seaborn or matplotlib though), perform exploratory data analysis on the dataset. In particular be sure to address the following questions:  \n",
    "    - a. Field(s) with high amount of missing/zero values\n",
    "    - b. Based off the frequency histogram for each numerical field, which numerical field(s) has/have a Gaussian(normal) distribution shape?\n",
    "    - c. Which field(s) have high cardinality and why (HINT: ndc_code is one feature)\n",
    "    - d. Please describe the demographic distributions in the dataset for the age and gender fields.\n",
    "    \n"
   ]
  },
  {
   "cell_type": "markdown",
   "metadata": {},
   "source": [
    "**OPTIONAL**: Use the Tensorflow Data Validation and Analysis library to complete. \n",
    "- The Tensorflow Data Validation and Analysis library(https://www.tensorflow.org/tfx/data_validation/get_started) is a useful tool for analyzing and summarizing dataset statistics. It is especially useful because it can scale to large datasets that do not fit into memory. \n",
    "- Note that there are some bugs that are still being resolved with Chrome v80 and we have moved away from using this for the project. "
   ]
  },
  {
   "cell_type": "markdown",
   "metadata": {},
   "source": [
    "**Student Response**: ??"
   ]
  },
  {
   "cell_type": "code",
   "execution_count": 4,
   "metadata": {},
   "outputs": [
    {
     "name": "stderr",
     "output_type": "stream",
     "text": [
      "WARNING:apache_beam.runners.interactive.interactive_environment:Dependencies required for Interactive Beam PCollection visualization are not available, please use: `pip install apache-beam[interactive]` to install necessary dependencies to enable all data visualization features.\n"
     ]
    },
    {
     "data": {
      "application/javascript": [
       "\n",
       "        if (typeof window.interactive_beam_jquery == 'undefined') {\n",
       "          var jqueryScript = document.createElement('script');\n",
       "          jqueryScript.src = 'https://code.jquery.com/jquery-3.4.1.slim.min.js';\n",
       "          jqueryScript.type = 'text/javascript';\n",
       "          jqueryScript.onload = function() {\n",
       "            var datatableScript = document.createElement('script');\n",
       "            datatableScript.src = 'https://cdn.datatables.net/1.10.20/js/jquery.dataTables.min.js';\n",
       "            datatableScript.type = 'text/javascript';\n",
       "            datatableScript.onload = function() {\n",
       "              window.interactive_beam_jquery = jQuery.noConflict(true);\n",
       "              window.interactive_beam_jquery(document).ready(function($){\n",
       "                \n",
       "              });\n",
       "            }\n",
       "            document.head.appendChild(datatableScript);\n",
       "          };\n",
       "          document.head.appendChild(jqueryScript);\n",
       "        } else {\n",
       "          window.interactive_beam_jquery(document).ready(function($){\n",
       "            \n",
       "          });\n",
       "        }"
      ]
     },
     "metadata": {},
     "output_type": "display_data"
    },
    {
     "name": "stderr",
     "output_type": "stream",
     "text": [
      "WARNING:apache_beam.io.tfrecordio:Couldn't find python-snappy so the implementation of _TFRecordUtil._masked_crc32c is not as fast as it could be.\n"
     ]
    },
    {
     "name": "stdout",
     "output_type": "stream",
     "text": [
      "WARNING:tensorflow:From C:\\Users\\joshu\\AppData\\Roaming\\Python\\Python310\\site-packages\\tensorflow_data_validation\\utils\\artifacts_io_impl.py:93: tf_record_iterator (from tensorflow.python.lib.io.tf_record) is deprecated and will be removed in a future version.\n",
      "Instructions for updating:\n",
      "Use eager execution and: \n",
      "`tf.data.TFRecordDataset(path)`\n"
     ]
    },
    {
     "name": "stderr",
     "output_type": "stream",
     "text": [
      "WARNING:tensorflow:From C:\\Users\\joshu\\AppData\\Roaming\\Python\\Python310\\site-packages\\tensorflow_data_validation\\utils\\artifacts_io_impl.py:93: tf_record_iterator (from tensorflow.python.lib.io.tf_record) is deprecated and will be removed in a future version.\n",
      "Instructions for updating:\n",
      "Use eager execution and: \n",
      "`tf.data.TFRecordDataset(path)`\n"
     ]
    },
    {
     "data": {
      "text/html": [
       "<iframe id='facets-iframe' width=\"100%\" height=\"500px\"></iframe>\n",
       "        <script>\n",
       "        facets_iframe = document.getElementById('facets-iframe');\n",
       "        facets_html = '<script src=\"https://cdnjs.cloudflare.com/ajax/libs/webcomponentsjs/1.3.3/webcomponents-lite.js\"><\\/script><link rel=\"import\" href=\"https://raw.githubusercontent.com/PAIR-code/facets/master/facets-dist/facets-jupyter.html\"><facets-overview proto-input=\"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\"></facets-overview>';\n",
       "        facets_iframe.srcdoc = facets_html;\n",
       "         facets_iframe.id = \"\";\n",
       "         setTimeout(() => {\n",
       "           facets_iframe.setAttribute('height', facets_iframe.contentWindow.document.body.offsetHeight + 'px')\n",
       "         }, 1500)\n",
       "         </script>"
      ],
      "text/plain": [
       "<IPython.core.display.HTML object>"
      ]
     },
     "metadata": {},
     "output_type": "display_data"
    }
   ],
   "source": [
    "######NOTE: The visualization will only display in Chrome browser. ########\n",
    "full_data_stats = tfdv.generate_statistics_from_csv(data_location='./diabetes/diabetic_data.csv') \n",
    "tfdv.visualize_statistics(full_data_stats)"
   ]
  },
  {
   "cell_type": "markdown",
   "metadata": {},
   "source": [
    "## Reduce Dimensionality of the NDC Code Feature"
   ]
  },
  {
   "cell_type": "markdown",
   "metadata": {},
   "source": [
    "**Question 3**: NDC codes are a common format to represent the wide variety of drugs that are prescribed for patient care in the United States. The challenge is that there are many codes that map to the same or similar drug. You are provided with the ndc drug lookup file https://github.com/udacity/nd320-c1-emr-data-starter/blob/master/project/data_schema_references/ndc_lookup_table.csv derived from the National Drug Codes List site(https://ndclist.com/). Please use this file to come up with a way to reduce the dimensionality of this field and create a new field in the dataset called \"generic_drug_name\" in the output dataframe. "
   ]
  },
  {
   "cell_type": "code",
   "execution_count": 5,
   "metadata": {},
   "outputs": [
    {
     "data": {
      "text/html": [
       "<div>\n",
       "<style scoped>\n",
       "    .dataframe tbody tr th:only-of-type {\n",
       "        vertical-align: middle;\n",
       "    }\n",
       "\n",
       "    .dataframe tbody tr th {\n",
       "        vertical-align: top;\n",
       "    }\n",
       "\n",
       "    .dataframe thead th {\n",
       "        text-align: right;\n",
       "    }\n",
       "</style>\n",
       "<table border=\"1\" class=\"dataframe\">\n",
       "  <thead>\n",
       "    <tr style=\"text-align: right;\">\n",
       "      <th></th>\n",
       "      <th>NDC_Code</th>\n",
       "      <th>Proprietary Name</th>\n",
       "      <th>Non-proprietary Name</th>\n",
       "      <th>Dosage Form</th>\n",
       "      <th>Route Name</th>\n",
       "      <th>Company Name</th>\n",
       "      <th>Product Type</th>\n",
       "    </tr>\n",
       "  </thead>\n",
       "  <tbody>\n",
       "    <tr>\n",
       "      <th>0</th>\n",
       "      <td>0087-6060</td>\n",
       "      <td>Glucophage</td>\n",
       "      <td>Metformin Hydrochloride</td>\n",
       "      <td>Tablet, Film Coated</td>\n",
       "      <td>Oral</td>\n",
       "      <td>Bristol-myers Squibb Company</td>\n",
       "      <td>Human Prescription Drug</td>\n",
       "    </tr>\n",
       "    <tr>\n",
       "      <th>1</th>\n",
       "      <td>0087-6063</td>\n",
       "      <td>Glucophage XR</td>\n",
       "      <td>Metformin Hydrochloride</td>\n",
       "      <td>Tablet, Extended Release</td>\n",
       "      <td>Oral</td>\n",
       "      <td>Bristol-myers Squibb Company</td>\n",
       "      <td>Human Prescription Drug</td>\n",
       "    </tr>\n",
       "    <tr>\n",
       "      <th>2</th>\n",
       "      <td>0087-6064</td>\n",
       "      <td>Glucophage XR</td>\n",
       "      <td>Metformin Hydrochloride</td>\n",
       "      <td>Tablet, Extended Release</td>\n",
       "      <td>Oral</td>\n",
       "      <td>Bristol-myers Squibb Company</td>\n",
       "      <td>Human Prescription Drug</td>\n",
       "    </tr>\n",
       "    <tr>\n",
       "      <th>3</th>\n",
       "      <td>0087-6070</td>\n",
       "      <td>Glucophage</td>\n",
       "      <td>Metformin Hydrochloride</td>\n",
       "      <td>Tablet, Film Coated</td>\n",
       "      <td>Oral</td>\n",
       "      <td>Bristol-myers Squibb Company</td>\n",
       "      <td>Human Prescription Drug</td>\n",
       "    </tr>\n",
       "    <tr>\n",
       "      <th>4</th>\n",
       "      <td>0087-6071</td>\n",
       "      <td>Glucophage</td>\n",
       "      <td>Metformin Hydrochloride</td>\n",
       "      <td>Tablet, Film Coated</td>\n",
       "      <td>Oral</td>\n",
       "      <td>Bristol-myers Squibb Company</td>\n",
       "      <td>Human Prescription Drug</td>\n",
       "    </tr>\n",
       "  </tbody>\n",
       "</table>\n",
       "</div>"
      ],
      "text/plain": [
       "    NDC_Code Proprietary Name     Non-proprietary Name  \\\n",
       "0  0087-6060       Glucophage  Metformin Hydrochloride   \n",
       "1  0087-6063    Glucophage XR  Metformin Hydrochloride   \n",
       "2  0087-6064    Glucophage XR  Metformin Hydrochloride   \n",
       "3  0087-6070       Glucophage  Metformin Hydrochloride   \n",
       "4  0087-6071       Glucophage  Metformin Hydrochloride   \n",
       "\n",
       "                Dosage Form Route Name                  Company Name  \\\n",
       "0       Tablet, Film Coated       Oral  Bristol-myers Squibb Company   \n",
       "1  Tablet, Extended Release       Oral  Bristol-myers Squibb Company   \n",
       "2  Tablet, Extended Release       Oral  Bristol-myers Squibb Company   \n",
       "3       Tablet, Film Coated       Oral  Bristol-myers Squibb Company   \n",
       "4       Tablet, Film Coated       Oral  Bristol-myers Squibb Company   \n",
       "\n",
       "              Product Type  \n",
       "0  Human Prescription Drug  \n",
       "1  Human Prescription Drug  \n",
       "2  Human Prescription Drug  \n",
       "3  Human Prescription Drug  \n",
       "4  Human Prescription Drug  "
      ]
     },
     "execution_count": 5,
     "metadata": {},
     "output_type": "execute_result"
    }
   ],
   "source": [
    "#NDC code lookup file\n",
    "ndc_code_path = \"./final_ndc_lookup_table\"\n",
    "ndc_code_df = pd.read_csv(ndc_code_path)\n",
    "ndc_code_df.head()"
   ]
  },
  {
   "cell_type": "code",
   "execution_count": 6,
   "metadata": {},
   "outputs": [],
   "source": [
    "from student_utils import reduce_dimension_ndc\n"
   ]
  },
  {
   "cell_type": "code",
   "execution_count": 7,
   "metadata": {},
   "outputs": [
    {
     "name": "stdout",
     "output_type": "stream",
     "text": [
      "   encounter_id  patient_nbr             race  gender      age weight  \\\n",
      "0       2278392      8222157        Caucasian  Female   [0-10)      ?   \n",
      "1        149190     55629189        Caucasian  Female  [10-20)      ?   \n",
      "2         64410     86047875  AfricanAmerican  Female  [20-30)      ?   \n",
      "3        500364     82442376        Caucasian    Male  [30-40)      ?   \n",
      "4         16680     42519267        Caucasian    Male  [40-50)      ?   \n",
      "\n",
      "   admission_type_id  discharge_disposition_id  admission_source_id  \\\n",
      "0                  6                        25                    1   \n",
      "1                  1                         1                    7   \n",
      "2                  1                         1                    7   \n",
      "3                  1                         1                    7   \n",
      "4                  1                         1                    7   \n",
      "\n",
      "   time_in_hospital payer_code         medical_specialty  \\\n",
      "0                 1          ?  Pediatrics-Endocrinology   \n",
      "1                 3          ?                         ?   \n",
      "2                 2          ?                         ?   \n",
      "3                 2          ?                         ?   \n",
      "4                 1          ?                         ?   \n",
      "\n",
      "  primary_diagnosis_code other_diagnosis_codes  number_outpatient  \\\n",
      "0                 250.83                   ?|?                  0   \n",
      "1                    276            250.01|255                  0   \n",
      "2                    648               250|V27                  2   \n",
      "3                      8            250.43|403                  0   \n",
      "4                    197               157|250                  0   \n",
      "\n",
      "   number_inpatient  number_emergency  num_lab_procedures  number_diagnoses  \\\n",
      "0                 0                 0                  41                 1   \n",
      "1                 0                 0                  59                 9   \n",
      "2                 1                 0                  11                 6   \n",
      "3                 0                 0                  44                 7   \n",
      "4                 0                 0                  51                 5   \n",
      "\n",
      "   num_medications  num_procedures    ndc_code max_glu_serum A1Cresult change  \\\n",
      "0                1               0         NaN          None      None     No   \n",
      "1               18               0  68071-1701          None      None     Ch   \n",
      "2               13               5   0378-1110          None      None     No   \n",
      "3               16               1  68071-1701          None      None     Ch   \n",
      "4                8               0   0049-4110          None      None     Ch   \n",
      "\n",
      "  readmitted generic_drug_name  \n",
      "0         NO     Human Insulin  \n",
      "1        >30     Human Insulin  \n",
      "2         NO     Human Insulin  \n",
      "3         NO     Human Insulin  \n",
      "4         NO     Human Insulin  \n"
     ]
    }
   ],
   "source": [
    "reduce_dim_df = reduce_dimension_ndc(df, ndc_code_df)\n",
    "\n",
    "print(reduce_dim_df.head())"
   ]
  },
  {
   "cell_type": "code",
   "execution_count": 8,
   "metadata": {},
   "outputs": [
    {
     "data": {
      "text/plain": [
       "0         Human Insulin\n",
       "1         Human Insulin\n",
       "2         Human Insulin\n",
       "3         Human Insulin\n",
       "4         Human Insulin\n",
       "              ...      \n",
       "143419              NaN\n",
       "143420              NaN\n",
       "143421              NaN\n",
       "143422              NaN\n",
       "143423              NaN\n",
       "Name: generic_drug_name, Length: 143424, dtype: object"
      ]
     },
     "execution_count": 8,
     "metadata": {},
     "output_type": "execute_result"
    }
   ],
   "source": [
    "reduce_dim_df['generic_drug_name']"
   ]
  },
  {
   "cell_type": "code",
   "execution_count": 9,
   "metadata": {},
   "outputs": [
    {
     "data": {
      "text/html": [
       "<div>\n",
       "<style scoped>\n",
       "    .dataframe tbody tr th:only-of-type {\n",
       "        vertical-align: middle;\n",
       "    }\n",
       "\n",
       "    .dataframe tbody tr th {\n",
       "        vertical-align: top;\n",
       "    }\n",
       "\n",
       "    .dataframe thead th {\n",
       "        text-align: right;\n",
       "    }\n",
       "</style>\n",
       "<table border=\"1\" class=\"dataframe\">\n",
       "  <thead>\n",
       "    <tr style=\"text-align: right;\">\n",
       "      <th></th>\n",
       "      <th>encounter_id</th>\n",
       "      <th>patient_nbr</th>\n",
       "      <th>race</th>\n",
       "      <th>gender</th>\n",
       "      <th>age</th>\n",
       "      <th>weight</th>\n",
       "      <th>admission_type_id</th>\n",
       "      <th>discharge_disposition_id</th>\n",
       "      <th>admission_source_id</th>\n",
       "      <th>time_in_hospital</th>\n",
       "      <th>payer_code</th>\n",
       "      <th>medical_specialty</th>\n",
       "      <th>primary_diagnosis_code</th>\n",
       "      <th>other_diagnosis_codes</th>\n",
       "      <th>number_outpatient</th>\n",
       "      <th>number_inpatient</th>\n",
       "      <th>number_emergency</th>\n",
       "      <th>num_lab_procedures</th>\n",
       "      <th>number_diagnoses</th>\n",
       "      <th>num_medications</th>\n",
       "      <th>num_procedures</th>\n",
       "      <th>ndc_code</th>\n",
       "      <th>max_glu_serum</th>\n",
       "      <th>A1Cresult</th>\n",
       "      <th>change</th>\n",
       "      <th>readmitted</th>\n",
       "      <th>generic_drug_name</th>\n",
       "    </tr>\n",
       "  </thead>\n",
       "  <tbody>\n",
       "    <tr>\n",
       "      <th>0</th>\n",
       "      <td>2278392</td>\n",
       "      <td>8222157</td>\n",
       "      <td>Caucasian</td>\n",
       "      <td>Female</td>\n",
       "      <td>[0-10)</td>\n",
       "      <td>?</td>\n",
       "      <td>6</td>\n",
       "      <td>25</td>\n",
       "      <td>1</td>\n",
       "      <td>1</td>\n",
       "      <td>?</td>\n",
       "      <td>Pediatrics-Endocrinology</td>\n",
       "      <td>250.83</td>\n",
       "      <td>?|?</td>\n",
       "      <td>0</td>\n",
       "      <td>0</td>\n",
       "      <td>0</td>\n",
       "      <td>41</td>\n",
       "      <td>1</td>\n",
       "      <td>1</td>\n",
       "      <td>0</td>\n",
       "      <td>NaN</td>\n",
       "      <td>None</td>\n",
       "      <td>None</td>\n",
       "      <td>No</td>\n",
       "      <td>NO</td>\n",
       "      <td>Human Insulin</td>\n",
       "    </tr>\n",
       "    <tr>\n",
       "      <th>1</th>\n",
       "      <td>149190</td>\n",
       "      <td>55629189</td>\n",
       "      <td>Caucasian</td>\n",
       "      <td>Female</td>\n",
       "      <td>[10-20)</td>\n",
       "      <td>?</td>\n",
       "      <td>1</td>\n",
       "      <td>1</td>\n",
       "      <td>7</td>\n",
       "      <td>3</td>\n",
       "      <td>?</td>\n",
       "      <td>?</td>\n",
       "      <td>276</td>\n",
       "      <td>250.01|255</td>\n",
       "      <td>0</td>\n",
       "      <td>0</td>\n",
       "      <td>0</td>\n",
       "      <td>59</td>\n",
       "      <td>9</td>\n",
       "      <td>18</td>\n",
       "      <td>0</td>\n",
       "      <td>68071-1701</td>\n",
       "      <td>None</td>\n",
       "      <td>None</td>\n",
       "      <td>Ch</td>\n",
       "      <td>&gt;30</td>\n",
       "      <td>Human Insulin</td>\n",
       "    </tr>\n",
       "    <tr>\n",
       "      <th>2</th>\n",
       "      <td>64410</td>\n",
       "      <td>86047875</td>\n",
       "      <td>AfricanAmerican</td>\n",
       "      <td>Female</td>\n",
       "      <td>[20-30)</td>\n",
       "      <td>?</td>\n",
       "      <td>1</td>\n",
       "      <td>1</td>\n",
       "      <td>7</td>\n",
       "      <td>2</td>\n",
       "      <td>?</td>\n",
       "      <td>?</td>\n",
       "      <td>648</td>\n",
       "      <td>250|V27</td>\n",
       "      <td>2</td>\n",
       "      <td>1</td>\n",
       "      <td>0</td>\n",
       "      <td>11</td>\n",
       "      <td>6</td>\n",
       "      <td>13</td>\n",
       "      <td>5</td>\n",
       "      <td>0378-1110</td>\n",
       "      <td>None</td>\n",
       "      <td>None</td>\n",
       "      <td>No</td>\n",
       "      <td>NO</td>\n",
       "      <td>Human Insulin</td>\n",
       "    </tr>\n",
       "    <tr>\n",
       "      <th>3</th>\n",
       "      <td>500364</td>\n",
       "      <td>82442376</td>\n",
       "      <td>Caucasian</td>\n",
       "      <td>Male</td>\n",
       "      <td>[30-40)</td>\n",
       "      <td>?</td>\n",
       "      <td>1</td>\n",
       "      <td>1</td>\n",
       "      <td>7</td>\n",
       "      <td>2</td>\n",
       "      <td>?</td>\n",
       "      <td>?</td>\n",
       "      <td>8</td>\n",
       "      <td>250.43|403</td>\n",
       "      <td>0</td>\n",
       "      <td>0</td>\n",
       "      <td>0</td>\n",
       "      <td>44</td>\n",
       "      <td>7</td>\n",
       "      <td>16</td>\n",
       "      <td>1</td>\n",
       "      <td>68071-1701</td>\n",
       "      <td>None</td>\n",
       "      <td>None</td>\n",
       "      <td>Ch</td>\n",
       "      <td>NO</td>\n",
       "      <td>Human Insulin</td>\n",
       "    </tr>\n",
       "    <tr>\n",
       "      <th>4</th>\n",
       "      <td>16680</td>\n",
       "      <td>42519267</td>\n",
       "      <td>Caucasian</td>\n",
       "      <td>Male</td>\n",
       "      <td>[40-50)</td>\n",
       "      <td>?</td>\n",
       "      <td>1</td>\n",
       "      <td>1</td>\n",
       "      <td>7</td>\n",
       "      <td>1</td>\n",
       "      <td>?</td>\n",
       "      <td>?</td>\n",
       "      <td>197</td>\n",
       "      <td>157|250</td>\n",
       "      <td>0</td>\n",
       "      <td>0</td>\n",
       "      <td>0</td>\n",
       "      <td>51</td>\n",
       "      <td>5</td>\n",
       "      <td>8</td>\n",
       "      <td>0</td>\n",
       "      <td>0049-4110</td>\n",
       "      <td>None</td>\n",
       "      <td>None</td>\n",
       "      <td>Ch</td>\n",
       "      <td>NO</td>\n",
       "      <td>Human Insulin</td>\n",
       "    </tr>\n",
       "  </tbody>\n",
       "</table>\n",
       "</div>"
      ],
      "text/plain": [
       "   encounter_id  patient_nbr             race  gender      age weight  \\\n",
       "0       2278392      8222157        Caucasian  Female   [0-10)      ?   \n",
       "1        149190     55629189        Caucasian  Female  [10-20)      ?   \n",
       "2         64410     86047875  AfricanAmerican  Female  [20-30)      ?   \n",
       "3        500364     82442376        Caucasian    Male  [30-40)      ?   \n",
       "4         16680     42519267        Caucasian    Male  [40-50)      ?   \n",
       "\n",
       "   admission_type_id  discharge_disposition_id  admission_source_id  \\\n",
       "0                  6                        25                    1   \n",
       "1                  1                         1                    7   \n",
       "2                  1                         1                    7   \n",
       "3                  1                         1                    7   \n",
       "4                  1                         1                    7   \n",
       "\n",
       "   time_in_hospital payer_code         medical_specialty  \\\n",
       "0                 1          ?  Pediatrics-Endocrinology   \n",
       "1                 3          ?                         ?   \n",
       "2                 2          ?                         ?   \n",
       "3                 2          ?                         ?   \n",
       "4                 1          ?                         ?   \n",
       "\n",
       "  primary_diagnosis_code other_diagnosis_codes  number_outpatient  \\\n",
       "0                 250.83                   ?|?                  0   \n",
       "1                    276            250.01|255                  0   \n",
       "2                    648               250|V27                  2   \n",
       "3                      8            250.43|403                  0   \n",
       "4                    197               157|250                  0   \n",
       "\n",
       "   number_inpatient  number_emergency  num_lab_procedures  number_diagnoses  \\\n",
       "0                 0                 0                  41                 1   \n",
       "1                 0                 0                  59                 9   \n",
       "2                 1                 0                  11                 6   \n",
       "3                 0                 0                  44                 7   \n",
       "4                 0                 0                  51                 5   \n",
       "\n",
       "   num_medications  num_procedures    ndc_code max_glu_serum A1Cresult change  \\\n",
       "0                1               0         NaN          None      None     No   \n",
       "1               18               0  68071-1701          None      None     Ch   \n",
       "2               13               5   0378-1110          None      None     No   \n",
       "3               16               1  68071-1701          None      None     Ch   \n",
       "4                8               0   0049-4110          None      None     Ch   \n",
       "\n",
       "  readmitted generic_drug_name  \n",
       "0         NO     Human Insulin  \n",
       "1        >30     Human Insulin  \n",
       "2         NO     Human Insulin  \n",
       "3         NO     Human Insulin  \n",
       "4         NO     Human Insulin  "
      ]
     },
     "execution_count": 9,
     "metadata": {},
     "output_type": "execute_result"
    }
   ],
   "source": [
    "df.head()"
   ]
  },
  {
   "cell_type": "code",
   "execution_count": 10,
   "metadata": {
    "scrolled": true
   },
   "outputs": [
    {
     "data": {
      "text/html": [
       "<div>\n",
       "<style scoped>\n",
       "    .dataframe tbody tr th:only-of-type {\n",
       "        vertical-align: middle;\n",
       "    }\n",
       "\n",
       "    .dataframe tbody tr th {\n",
       "        vertical-align: top;\n",
       "    }\n",
       "\n",
       "    .dataframe thead th {\n",
       "        text-align: right;\n",
       "    }\n",
       "</style>\n",
       "<table border=\"1\" class=\"dataframe\">\n",
       "  <thead>\n",
       "    <tr style=\"text-align: right;\">\n",
       "      <th></th>\n",
       "      <th>encounter_id</th>\n",
       "      <th>patient_nbr</th>\n",
       "      <th>race</th>\n",
       "      <th>gender</th>\n",
       "      <th>age</th>\n",
       "      <th>weight</th>\n",
       "      <th>admission_type_id</th>\n",
       "      <th>discharge_disposition_id</th>\n",
       "      <th>admission_source_id</th>\n",
       "      <th>time_in_hospital</th>\n",
       "      <th>payer_code</th>\n",
       "      <th>medical_specialty</th>\n",
       "      <th>primary_diagnosis_code</th>\n",
       "      <th>other_diagnosis_codes</th>\n",
       "      <th>number_outpatient</th>\n",
       "      <th>number_inpatient</th>\n",
       "      <th>number_emergency</th>\n",
       "      <th>num_lab_procedures</th>\n",
       "      <th>number_diagnoses</th>\n",
       "      <th>num_medications</th>\n",
       "      <th>num_procedures</th>\n",
       "      <th>ndc_code</th>\n",
       "      <th>max_glu_serum</th>\n",
       "      <th>A1Cresult</th>\n",
       "      <th>change</th>\n",
       "      <th>readmitted</th>\n",
       "      <th>generic_drug_name</th>\n",
       "    </tr>\n",
       "  </thead>\n",
       "  <tbody>\n",
       "    <tr>\n",
       "      <th>0</th>\n",
       "      <td>2278392</td>\n",
       "      <td>8222157</td>\n",
       "      <td>Caucasian</td>\n",
       "      <td>Female</td>\n",
       "      <td>[0-10)</td>\n",
       "      <td>?</td>\n",
       "      <td>6</td>\n",
       "      <td>25</td>\n",
       "      <td>1</td>\n",
       "      <td>1</td>\n",
       "      <td>?</td>\n",
       "      <td>Pediatrics-Endocrinology</td>\n",
       "      <td>250.83</td>\n",
       "      <td>?|?</td>\n",
       "      <td>0</td>\n",
       "      <td>0</td>\n",
       "      <td>0</td>\n",
       "      <td>41</td>\n",
       "      <td>1</td>\n",
       "      <td>1</td>\n",
       "      <td>0</td>\n",
       "      <td>NaN</td>\n",
       "      <td>None</td>\n",
       "      <td>None</td>\n",
       "      <td>No</td>\n",
       "      <td>NO</td>\n",
       "      <td>Human Insulin</td>\n",
       "    </tr>\n",
       "    <tr>\n",
       "      <th>1</th>\n",
       "      <td>149190</td>\n",
       "      <td>55629189</td>\n",
       "      <td>Caucasian</td>\n",
       "      <td>Female</td>\n",
       "      <td>[10-20)</td>\n",
       "      <td>?</td>\n",
       "      <td>1</td>\n",
       "      <td>1</td>\n",
       "      <td>7</td>\n",
       "      <td>3</td>\n",
       "      <td>?</td>\n",
       "      <td>?</td>\n",
       "      <td>276</td>\n",
       "      <td>250.01|255</td>\n",
       "      <td>0</td>\n",
       "      <td>0</td>\n",
       "      <td>0</td>\n",
       "      <td>59</td>\n",
       "      <td>9</td>\n",
       "      <td>18</td>\n",
       "      <td>0</td>\n",
       "      <td>68071-1701</td>\n",
       "      <td>None</td>\n",
       "      <td>None</td>\n",
       "      <td>Ch</td>\n",
       "      <td>&gt;30</td>\n",
       "      <td>Human Insulin</td>\n",
       "    </tr>\n",
       "    <tr>\n",
       "      <th>2</th>\n",
       "      <td>64410</td>\n",
       "      <td>86047875</td>\n",
       "      <td>AfricanAmerican</td>\n",
       "      <td>Female</td>\n",
       "      <td>[20-30)</td>\n",
       "      <td>?</td>\n",
       "      <td>1</td>\n",
       "      <td>1</td>\n",
       "      <td>7</td>\n",
       "      <td>2</td>\n",
       "      <td>?</td>\n",
       "      <td>?</td>\n",
       "      <td>648</td>\n",
       "      <td>250|V27</td>\n",
       "      <td>2</td>\n",
       "      <td>1</td>\n",
       "      <td>0</td>\n",
       "      <td>11</td>\n",
       "      <td>6</td>\n",
       "      <td>13</td>\n",
       "      <td>5</td>\n",
       "      <td>0378-1110</td>\n",
       "      <td>None</td>\n",
       "      <td>None</td>\n",
       "      <td>No</td>\n",
       "      <td>NO</td>\n",
       "      <td>Human Insulin</td>\n",
       "    </tr>\n",
       "    <tr>\n",
       "      <th>3</th>\n",
       "      <td>500364</td>\n",
       "      <td>82442376</td>\n",
       "      <td>Caucasian</td>\n",
       "      <td>Male</td>\n",
       "      <td>[30-40)</td>\n",
       "      <td>?</td>\n",
       "      <td>1</td>\n",
       "      <td>1</td>\n",
       "      <td>7</td>\n",
       "      <td>2</td>\n",
       "      <td>?</td>\n",
       "      <td>?</td>\n",
       "      <td>8</td>\n",
       "      <td>250.43|403</td>\n",
       "      <td>0</td>\n",
       "      <td>0</td>\n",
       "      <td>0</td>\n",
       "      <td>44</td>\n",
       "      <td>7</td>\n",
       "      <td>16</td>\n",
       "      <td>1</td>\n",
       "      <td>68071-1701</td>\n",
       "      <td>None</td>\n",
       "      <td>None</td>\n",
       "      <td>Ch</td>\n",
       "      <td>NO</td>\n",
       "      <td>Human Insulin</td>\n",
       "    </tr>\n",
       "    <tr>\n",
       "      <th>4</th>\n",
       "      <td>16680</td>\n",
       "      <td>42519267</td>\n",
       "      <td>Caucasian</td>\n",
       "      <td>Male</td>\n",
       "      <td>[40-50)</td>\n",
       "      <td>?</td>\n",
       "      <td>1</td>\n",
       "      <td>1</td>\n",
       "      <td>7</td>\n",
       "      <td>1</td>\n",
       "      <td>?</td>\n",
       "      <td>?</td>\n",
       "      <td>197</td>\n",
       "      <td>157|250</td>\n",
       "      <td>0</td>\n",
       "      <td>0</td>\n",
       "      <td>0</td>\n",
       "      <td>51</td>\n",
       "      <td>5</td>\n",
       "      <td>8</td>\n",
       "      <td>0</td>\n",
       "      <td>0049-4110</td>\n",
       "      <td>None</td>\n",
       "      <td>None</td>\n",
       "      <td>Ch</td>\n",
       "      <td>NO</td>\n",
       "      <td>Human Insulin</td>\n",
       "    </tr>\n",
       "  </tbody>\n",
       "</table>\n",
       "</div>"
      ],
      "text/plain": [
       "   encounter_id  patient_nbr             race  gender      age weight  \\\n",
       "0       2278392      8222157        Caucasian  Female   [0-10)      ?   \n",
       "1        149190     55629189        Caucasian  Female  [10-20)      ?   \n",
       "2         64410     86047875  AfricanAmerican  Female  [20-30)      ?   \n",
       "3        500364     82442376        Caucasian    Male  [30-40)      ?   \n",
       "4         16680     42519267        Caucasian    Male  [40-50)      ?   \n",
       "\n",
       "   admission_type_id  discharge_disposition_id  admission_source_id  \\\n",
       "0                  6                        25                    1   \n",
       "1                  1                         1                    7   \n",
       "2                  1                         1                    7   \n",
       "3                  1                         1                    7   \n",
       "4                  1                         1                    7   \n",
       "\n",
       "   time_in_hospital payer_code         medical_specialty  \\\n",
       "0                 1          ?  Pediatrics-Endocrinology   \n",
       "1                 3          ?                         ?   \n",
       "2                 2          ?                         ?   \n",
       "3                 2          ?                         ?   \n",
       "4                 1          ?                         ?   \n",
       "\n",
       "  primary_diagnosis_code other_diagnosis_codes  number_outpatient  \\\n",
       "0                 250.83                   ?|?                  0   \n",
       "1                    276            250.01|255                  0   \n",
       "2                    648               250|V27                  2   \n",
       "3                      8            250.43|403                  0   \n",
       "4                    197               157|250                  0   \n",
       "\n",
       "   number_inpatient  number_emergency  num_lab_procedures  number_diagnoses  \\\n",
       "0                 0                 0                  41                 1   \n",
       "1                 0                 0                  59                 9   \n",
       "2                 1                 0                  11                 6   \n",
       "3                 0                 0                  44                 7   \n",
       "4                 0                 0                  51                 5   \n",
       "\n",
       "   num_medications  num_procedures    ndc_code max_glu_serum A1Cresult change  \\\n",
       "0                1               0         NaN          None      None     No   \n",
       "1               18               0  68071-1701          None      None     Ch   \n",
       "2               13               5   0378-1110          None      None     No   \n",
       "3               16               1  68071-1701          None      None     Ch   \n",
       "4                8               0   0049-4110          None      None     Ch   \n",
       "\n",
       "  readmitted generic_drug_name  \n",
       "0         NO     Human Insulin  \n",
       "1        >30     Human Insulin  \n",
       "2         NO     Human Insulin  \n",
       "3         NO     Human Insulin  \n",
       "4         NO     Human Insulin  "
      ]
     },
     "execution_count": 10,
     "metadata": {},
     "output_type": "execute_result"
    }
   ],
   "source": [
    "reduce_dim_df.head()"
   ]
  },
  {
   "cell_type": "code",
   "execution_count": 11,
   "metadata": {},
   "outputs": [],
   "source": [
    "# Number of unique values should be less for the new output field\n",
    "assert df['ndc_code'].nunique() > reduce_dim_df['generic_drug_name'].nunique()"
   ]
  },
  {
   "cell_type": "markdown",
   "metadata": {},
   "source": [
    "## Select First Encounter for each Patient "
   ]
  },
  {
   "cell_type": "markdown",
   "metadata": {},
   "source": [
    "**Question 4**: In order to simplify the aggregation of data for the model, we will only select the first encounter for each patient in the dataset. This is to reduce the risk of data leakage of future patient encounters and to reduce complexity of the data transformation and modeling steps. We will assume that sorting in numerical order on the encounter_id provides the time horizon for determining which encounters come before and after another."
   ]
  },
  {
   "cell_type": "code",
   "execution_count": 12,
   "metadata": {},
   "outputs": [],
   "source": [
    "from student_utils import select_first_encounter\n"
   ]
  },
  {
   "cell_type": "code",
   "execution_count": 13,
   "metadata": {},
   "outputs": [
    {
     "data": {
      "text/html": [
       "<div>\n",
       "<style scoped>\n",
       "    .dataframe tbody tr th:only-of-type {\n",
       "        vertical-align: middle;\n",
       "    }\n",
       "\n",
       "    .dataframe tbody tr th {\n",
       "        vertical-align: top;\n",
       "    }\n",
       "\n",
       "    .dataframe thead th {\n",
       "        text-align: right;\n",
       "    }\n",
       "</style>\n",
       "<table border=\"1\" class=\"dataframe\">\n",
       "  <thead>\n",
       "    <tr style=\"text-align: right;\">\n",
       "      <th></th>\n",
       "      <th>encounter_id</th>\n",
       "      <th>patient_nbr</th>\n",
       "      <th>race</th>\n",
       "      <th>gender</th>\n",
       "      <th>age</th>\n",
       "      <th>weight</th>\n",
       "      <th>admission_type_id</th>\n",
       "      <th>discharge_disposition_id</th>\n",
       "      <th>admission_source_id</th>\n",
       "      <th>time_in_hospital</th>\n",
       "      <th>payer_code</th>\n",
       "      <th>medical_specialty</th>\n",
       "      <th>primary_diagnosis_code</th>\n",
       "      <th>other_diagnosis_codes</th>\n",
       "      <th>number_outpatient</th>\n",
       "      <th>number_inpatient</th>\n",
       "      <th>number_emergency</th>\n",
       "      <th>num_lab_procedures</th>\n",
       "      <th>number_diagnoses</th>\n",
       "      <th>num_medications</th>\n",
       "      <th>num_procedures</th>\n",
       "      <th>ndc_code</th>\n",
       "      <th>max_glu_serum</th>\n",
       "      <th>A1Cresult</th>\n",
       "      <th>change</th>\n",
       "      <th>readmitted</th>\n",
       "      <th>generic_drug_name</th>\n",
       "    </tr>\n",
       "  </thead>\n",
       "  <tbody>\n",
       "    <tr>\n",
       "      <th>0</th>\n",
       "      <td>2278392</td>\n",
       "      <td>8222157</td>\n",
       "      <td>Caucasian</td>\n",
       "      <td>Female</td>\n",
       "      <td>[0-10)</td>\n",
       "      <td>?</td>\n",
       "      <td>6</td>\n",
       "      <td>25</td>\n",
       "      <td>1</td>\n",
       "      <td>1</td>\n",
       "      <td>?</td>\n",
       "      <td>Pediatrics-Endocrinology</td>\n",
       "      <td>250.83</td>\n",
       "      <td>?|?</td>\n",
       "      <td>0</td>\n",
       "      <td>0</td>\n",
       "      <td>0</td>\n",
       "      <td>41</td>\n",
       "      <td>1</td>\n",
       "      <td>1</td>\n",
       "      <td>0</td>\n",
       "      <td>NaN</td>\n",
       "      <td>None</td>\n",
       "      <td>None</td>\n",
       "      <td>No</td>\n",
       "      <td>NO</td>\n",
       "      <td>Human Insulin</td>\n",
       "    </tr>\n",
       "    <tr>\n",
       "      <th>1</th>\n",
       "      <td>149190</td>\n",
       "      <td>55629189</td>\n",
       "      <td>Caucasian</td>\n",
       "      <td>Female</td>\n",
       "      <td>[10-20)</td>\n",
       "      <td>?</td>\n",
       "      <td>1</td>\n",
       "      <td>1</td>\n",
       "      <td>7</td>\n",
       "      <td>3</td>\n",
       "      <td>?</td>\n",
       "      <td>?</td>\n",
       "      <td>276</td>\n",
       "      <td>250.01|255</td>\n",
       "      <td>0</td>\n",
       "      <td>0</td>\n",
       "      <td>0</td>\n",
       "      <td>59</td>\n",
       "      <td>9</td>\n",
       "      <td>18</td>\n",
       "      <td>0</td>\n",
       "      <td>68071-1701</td>\n",
       "      <td>None</td>\n",
       "      <td>None</td>\n",
       "      <td>Ch</td>\n",
       "      <td>&gt;30</td>\n",
       "      <td>Human Insulin</td>\n",
       "    </tr>\n",
       "    <tr>\n",
       "      <th>2</th>\n",
       "      <td>64410</td>\n",
       "      <td>86047875</td>\n",
       "      <td>AfricanAmerican</td>\n",
       "      <td>Female</td>\n",
       "      <td>[20-30)</td>\n",
       "      <td>?</td>\n",
       "      <td>1</td>\n",
       "      <td>1</td>\n",
       "      <td>7</td>\n",
       "      <td>2</td>\n",
       "      <td>?</td>\n",
       "      <td>?</td>\n",
       "      <td>648</td>\n",
       "      <td>250|V27</td>\n",
       "      <td>2</td>\n",
       "      <td>1</td>\n",
       "      <td>0</td>\n",
       "      <td>11</td>\n",
       "      <td>6</td>\n",
       "      <td>13</td>\n",
       "      <td>5</td>\n",
       "      <td>0378-1110</td>\n",
       "      <td>None</td>\n",
       "      <td>None</td>\n",
       "      <td>No</td>\n",
       "      <td>NO</td>\n",
       "      <td>Human Insulin</td>\n",
       "    </tr>\n",
       "    <tr>\n",
       "      <th>3</th>\n",
       "      <td>500364</td>\n",
       "      <td>82442376</td>\n",
       "      <td>Caucasian</td>\n",
       "      <td>Male</td>\n",
       "      <td>[30-40)</td>\n",
       "      <td>?</td>\n",
       "      <td>1</td>\n",
       "      <td>1</td>\n",
       "      <td>7</td>\n",
       "      <td>2</td>\n",
       "      <td>?</td>\n",
       "      <td>?</td>\n",
       "      <td>8</td>\n",
       "      <td>250.43|403</td>\n",
       "      <td>0</td>\n",
       "      <td>0</td>\n",
       "      <td>0</td>\n",
       "      <td>44</td>\n",
       "      <td>7</td>\n",
       "      <td>16</td>\n",
       "      <td>1</td>\n",
       "      <td>68071-1701</td>\n",
       "      <td>None</td>\n",
       "      <td>None</td>\n",
       "      <td>Ch</td>\n",
       "      <td>NO</td>\n",
       "      <td>Human Insulin</td>\n",
       "    </tr>\n",
       "    <tr>\n",
       "      <th>4</th>\n",
       "      <td>16680</td>\n",
       "      <td>42519267</td>\n",
       "      <td>Caucasian</td>\n",
       "      <td>Male</td>\n",
       "      <td>[40-50)</td>\n",
       "      <td>?</td>\n",
       "      <td>1</td>\n",
       "      <td>1</td>\n",
       "      <td>7</td>\n",
       "      <td>1</td>\n",
       "      <td>?</td>\n",
       "      <td>?</td>\n",
       "      <td>197</td>\n",
       "      <td>157|250</td>\n",
       "      <td>0</td>\n",
       "      <td>0</td>\n",
       "      <td>0</td>\n",
       "      <td>51</td>\n",
       "      <td>5</td>\n",
       "      <td>8</td>\n",
       "      <td>0</td>\n",
       "      <td>0049-4110</td>\n",
       "      <td>None</td>\n",
       "      <td>None</td>\n",
       "      <td>Ch</td>\n",
       "      <td>NO</td>\n",
       "      <td>Human Insulin</td>\n",
       "    </tr>\n",
       "  </tbody>\n",
       "</table>\n",
       "</div>"
      ],
      "text/plain": [
       "   encounter_id  patient_nbr             race  gender      age weight  \\\n",
       "0       2278392      8222157        Caucasian  Female   [0-10)      ?   \n",
       "1        149190     55629189        Caucasian  Female  [10-20)      ?   \n",
       "2         64410     86047875  AfricanAmerican  Female  [20-30)      ?   \n",
       "3        500364     82442376        Caucasian    Male  [30-40)      ?   \n",
       "4         16680     42519267        Caucasian    Male  [40-50)      ?   \n",
       "\n",
       "   admission_type_id  discharge_disposition_id  admission_source_id  \\\n",
       "0                  6                        25                    1   \n",
       "1                  1                         1                    7   \n",
       "2                  1                         1                    7   \n",
       "3                  1                         1                    7   \n",
       "4                  1                         1                    7   \n",
       "\n",
       "   time_in_hospital payer_code         medical_specialty  \\\n",
       "0                 1          ?  Pediatrics-Endocrinology   \n",
       "1                 3          ?                         ?   \n",
       "2                 2          ?                         ?   \n",
       "3                 2          ?                         ?   \n",
       "4                 1          ?                         ?   \n",
       "\n",
       "  primary_diagnosis_code other_diagnosis_codes  number_outpatient  \\\n",
       "0                 250.83                   ?|?                  0   \n",
       "1                    276            250.01|255                  0   \n",
       "2                    648               250|V27                  2   \n",
       "3                      8            250.43|403                  0   \n",
       "4                    197               157|250                  0   \n",
       "\n",
       "   number_inpatient  number_emergency  num_lab_procedures  number_diagnoses  \\\n",
       "0                 0                 0                  41                 1   \n",
       "1                 0                 0                  59                 9   \n",
       "2                 1                 0                  11                 6   \n",
       "3                 0                 0                  44                 7   \n",
       "4                 0                 0                  51                 5   \n",
       "\n",
       "   num_medications  num_procedures    ndc_code max_glu_serum A1Cresult change  \\\n",
       "0                1               0         NaN          None      None     No   \n",
       "1               18               0  68071-1701          None      None     Ch   \n",
       "2               13               5   0378-1110          None      None     No   \n",
       "3               16               1  68071-1701          None      None     Ch   \n",
       "4                8               0   0049-4110          None      None     Ch   \n",
       "\n",
       "  readmitted generic_drug_name  \n",
       "0         NO     Human Insulin  \n",
       "1        >30     Human Insulin  \n",
       "2         NO     Human Insulin  \n",
       "3         NO     Human Insulin  \n",
       "4         NO     Human Insulin  "
      ]
     },
     "execution_count": 13,
     "metadata": {},
     "output_type": "execute_result"
    }
   ],
   "source": [
    "reduce_dim_df.head()"
   ]
  },
  {
   "cell_type": "code",
   "execution_count": 14,
   "metadata": {},
   "outputs": [],
   "source": [
    "first_encounter_df = select_first_encounter(reduce_dim_df)"
   ]
  },
  {
   "cell_type": "code",
   "execution_count": 15,
   "metadata": {},
   "outputs": [
    {
     "name": "stdout",
     "output_type": "stream",
     "text": [
      "Number of unique patients:71518\n",
      "Number of unique encounters:71518\n",
      "Tests passed!!\n"
     ]
    }
   ],
   "source": [
    "# unique patients in transformed dataset\n",
    "unique_patients = first_encounter_df['patient_nbr'].nunique()\n",
    "print(\"Number of unique patients:{}\".format(unique_patients))\n",
    "\n",
    "# unique encounters in transformed dataset\n",
    "unique_encounters = first_encounter_df['encounter_id'].nunique()\n",
    "print(\"Number of unique encounters:{}\".format(unique_encounters))\n",
    "\n",
    "original_unique_patient_number = reduce_dim_df['patient_nbr'].nunique()\n",
    "# number of unique patients should be equal to the number of unique encounters and patients in the final dataset\n",
    "assert original_unique_patient_number == unique_patients\n",
    "assert original_unique_patient_number == unique_encounters\n",
    "print(\"Tests passed!!\")"
   ]
  },
  {
   "cell_type": "markdown",
   "metadata": {},
   "source": [
    "## Aggregate Dataset to Right Level for Modeling "
   ]
  },
  {
   "cell_type": "markdown",
   "metadata": {},
   "source": [
    "In order to provide a broad scope of the steps and to prevent students from getting stuck with data transformations, we have selected the aggregation columns and provided a function to build the dataset at the appropriate level. The 'aggregate_dataset\" function that you can find in the 'utils.py' file can take the preceding dataframe with the 'generic_drug_name' field and transform the data appropriately for the project. \n",
    "\n",
    "To make it simpler for students, we are creating dummy columns for each unique generic drug name and adding those are input features to the model. There are other options for data representation but this is out of scope for the time constraints of the course."
   ]
  },
  {
   "cell_type": "code",
   "execution_count": 16,
   "metadata": {},
   "outputs": [
    {
     "name": "stderr",
     "output_type": "stream",
     "text": [
      "C:\\Users\\joshu\\diabetes_proj\\utils.py:9: FutureWarning: Indexing with multiple keys (implicitly converted to a tuple of keys) will be deprecated, use a list instead.\n",
      "  df = df.groupby(grouping_field_list)['encounter_id',\n",
      "C:\\Users\\joshu\\diabetes_proj\\utils.py:13: FutureWarning: Using the level keyword in DataFrame and Series aggregations is deprecated and will be removed in a future version. Use groupby instead. df.sum(level=1) should use df.groupby(level=1).sum().\n",
      "  dummy_df = pd.get_dummies(df[array_field + '_array'].apply(pd.Series).stack()).sum(level=0)\n"
     ]
    }
   ],
   "source": [
    "exclusion_list = ['generic_drug_name']\n",
    "grouping_field_list = [c for c in first_encounter_df.columns if c not in exclusion_list]\n",
    "agg_drug_df, ndc_col_list = aggregate_dataset(first_encounter_df, grouping_field_list, 'generic_drug_name')"
   ]
  },
  {
   "cell_type": "code",
   "execution_count": 17,
   "metadata": {},
   "outputs": [],
   "source": [
    "assert len(agg_drug_df) == agg_drug_df['patient_nbr'].nunique() == agg_drug_df['encounter_id'].nunique()"
   ]
  },
  {
   "cell_type": "markdown",
   "metadata": {},
   "source": [
    "## Prepare Fields and Cast Dataset "
   ]
  },
  {
   "cell_type": "markdown",
   "metadata": {},
   "source": [
    "### Feature Selection"
   ]
  },
  {
   "cell_type": "markdown",
   "metadata": {},
   "source": [
    "**Question 5**: After you have aggregated the dataset to the right level, we can do feature selection (we will include the ndc_col_list, dummy column features too). In the block below, please select the categorical and numerical features that you will use for the model, so that we can create a dataset subset. \n",
    "\n",
    "For the payer_code and weight fields, please provide whether you think we should include/exclude the field in our model and give a justification/rationale for this based off of the statistics of the data. Feel free to use visualizations or summary statistics to support your choice."
   ]
  },
  {
   "cell_type": "markdown",
   "metadata": {},
   "source": [
    "Student response: ??"
   ]
  },
  {
   "cell_type": "code",
   "execution_count": 18,
   "metadata": {},
   "outputs": [
    {
     "data": {
      "text/html": [
       "<div>\n",
       "<style scoped>\n",
       "    .dataframe tbody tr th:only-of-type {\n",
       "        vertical-align: middle;\n",
       "    }\n",
       "\n",
       "    .dataframe tbody tr th {\n",
       "        vertical-align: top;\n",
       "    }\n",
       "\n",
       "    .dataframe thead th {\n",
       "        text-align: right;\n",
       "    }\n",
       "</style>\n",
       "<table border=\"1\" class=\"dataframe\">\n",
       "  <thead>\n",
       "    <tr style=\"text-align: right;\">\n",
       "      <th></th>\n",
       "      <th>patient_nbr</th>\n",
       "      <th>encounter_id</th>\n",
       "      <th>race</th>\n",
       "      <th>gender</th>\n",
       "      <th>age</th>\n",
       "      <th>weight</th>\n",
       "      <th>admission_type_id</th>\n",
       "      <th>discharge_disposition_id</th>\n",
       "      <th>admission_source_id</th>\n",
       "      <th>time_in_hospital</th>\n",
       "      <th>payer_code</th>\n",
       "      <th>medical_specialty</th>\n",
       "      <th>primary_diagnosis_code</th>\n",
       "      <th>other_diagnosis_codes</th>\n",
       "      <th>number_outpatient</th>\n",
       "      <th>number_inpatient</th>\n",
       "      <th>number_emergency</th>\n",
       "      <th>num_lab_procedures</th>\n",
       "      <th>number_diagnoses</th>\n",
       "      <th>num_medications</th>\n",
       "      <th>num_procedures</th>\n",
       "      <th>ndc_code</th>\n",
       "      <th>max_glu_serum</th>\n",
       "      <th>A1Cresult</th>\n",
       "      <th>change</th>\n",
       "      <th>readmitted</th>\n",
       "      <th>generic_drug_name_array</th>\n",
       "      <th>Acarbose</th>\n",
       "      <th>Glimepiride</th>\n",
       "      <th>Glipizide</th>\n",
       "      <th>Glipizide_And_Metformin_Hydrochloride</th>\n",
       "      <th>Glyburide</th>\n",
       "      <th>Glyburide_And_Metformin_Hydrochloride</th>\n",
       "      <th>Glyburide-metformin_Hydrochloride</th>\n",
       "      <th>Human_Insulin</th>\n",
       "      <th>Insulin_Human</th>\n",
       "      <th>Metformin_Hcl</th>\n",
       "      <th>Metformin_Hydrochloride</th>\n",
       "      <th>Miglitol</th>\n",
       "      <th>Nateglinide</th>\n",
       "      <th>Pioglitazole_And_Metformin_Hydrochloride</th>\n",
       "      <th>Pioglitazone</th>\n",
       "      <th>Pioglitazone_And_Glimepiride</th>\n",
       "      <th>Pioglitazone_Hydrochloride_And_Glimepiride</th>\n",
       "      <th>Repaglinide</th>\n",
       "      <th>Rosiglitazone_Maleate</th>\n",
       "      <th>Tolazamide</th>\n",
       "      <th>Tolbutamide</th>\n",
       "    </tr>\n",
       "  </thead>\n",
       "  <tbody>\n",
       "    <tr>\n",
       "      <th>0</th>\n",
       "      <td>135</td>\n",
       "      <td>24437208</td>\n",
       "      <td>Caucasian</td>\n",
       "      <td>Female</td>\n",
       "      <td>[50-60)</td>\n",
       "      <td>?</td>\n",
       "      <td>2</td>\n",
       "      <td>1</td>\n",
       "      <td>1</td>\n",
       "      <td>8</td>\n",
       "      <td>?</td>\n",
       "      <td>Cardiology</td>\n",
       "      <td>401</td>\n",
       "      <td>997|560</td>\n",
       "      <td>0</td>\n",
       "      <td>0</td>\n",
       "      <td>0</td>\n",
       "      <td>77</td>\n",
       "      <td>8</td>\n",
       "      <td>33</td>\n",
       "      <td>6</td>\n",
       "      <td>42291-559</td>\n",
       "      <td>None</td>\n",
       "      <td>None</td>\n",
       "      <td>Ch</td>\n",
       "      <td>&lt;30</td>\n",
       "      <td>[Human Insulin]</td>\n",
       "      <td>0.0</td>\n",
       "      <td>0.0</td>\n",
       "      <td>0.0</td>\n",
       "      <td>0.0</td>\n",
       "      <td>0.0</td>\n",
       "      <td>0.0</td>\n",
       "      <td>0.0</td>\n",
       "      <td>1.0</td>\n",
       "      <td>0.0</td>\n",
       "      <td>0.0</td>\n",
       "      <td>0.0</td>\n",
       "      <td>0.0</td>\n",
       "      <td>0.0</td>\n",
       "      <td>0.0</td>\n",
       "      <td>0.0</td>\n",
       "      <td>0.0</td>\n",
       "      <td>0.0</td>\n",
       "      <td>0.0</td>\n",
       "      <td>0.0</td>\n",
       "      <td>0.0</td>\n",
       "      <td>0.0</td>\n",
       "    </tr>\n",
       "    <tr>\n",
       "      <th>1</th>\n",
       "      <td>729</td>\n",
       "      <td>189899286</td>\n",
       "      <td>Caucasian</td>\n",
       "      <td>Female</td>\n",
       "      <td>[80-90)</td>\n",
       "      <td>?</td>\n",
       "      <td>1</td>\n",
       "      <td>3</td>\n",
       "      <td>7</td>\n",
       "      <td>4</td>\n",
       "      <td>MC</td>\n",
       "      <td>InternalMedicine</td>\n",
       "      <td>820</td>\n",
       "      <td>493|E880</td>\n",
       "      <td>0</td>\n",
       "      <td>0</td>\n",
       "      <td>0</td>\n",
       "      <td>68</td>\n",
       "      <td>9</td>\n",
       "      <td>23</td>\n",
       "      <td>2</td>\n",
       "      <td>0615-7982</td>\n",
       "      <td>None</td>\n",
       "      <td>&gt;7</td>\n",
       "      <td>No</td>\n",
       "      <td>NO</td>\n",
       "      <td>[Metformin Hydrochloride]</td>\n",
       "      <td>0.0</td>\n",
       "      <td>0.0</td>\n",
       "      <td>0.0</td>\n",
       "      <td>0.0</td>\n",
       "      <td>0.0</td>\n",
       "      <td>0.0</td>\n",
       "      <td>0.0</td>\n",
       "      <td>0.0</td>\n",
       "      <td>0.0</td>\n",
       "      <td>0.0</td>\n",
       "      <td>1.0</td>\n",
       "      <td>0.0</td>\n",
       "      <td>0.0</td>\n",
       "      <td>0.0</td>\n",
       "      <td>0.0</td>\n",
       "      <td>0.0</td>\n",
       "      <td>0.0</td>\n",
       "      <td>0.0</td>\n",
       "      <td>0.0</td>\n",
       "      <td>0.0</td>\n",
       "      <td>0.0</td>\n",
       "    </tr>\n",
       "    <tr>\n",
       "      <th>2</th>\n",
       "      <td>774</td>\n",
       "      <td>64331490</td>\n",
       "      <td>Caucasian</td>\n",
       "      <td>Female</td>\n",
       "      <td>[80-90)</td>\n",
       "      <td>?</td>\n",
       "      <td>1</td>\n",
       "      <td>1</td>\n",
       "      <td>7</td>\n",
       "      <td>3</td>\n",
       "      <td>?</td>\n",
       "      <td>InternalMedicine</td>\n",
       "      <td>274</td>\n",
       "      <td>427|416</td>\n",
       "      <td>0</td>\n",
       "      <td>0</td>\n",
       "      <td>0</td>\n",
       "      <td>46</td>\n",
       "      <td>9</td>\n",
       "      <td>20</td>\n",
       "      <td>0</td>\n",
       "      <td>0378-7185</td>\n",
       "      <td>None</td>\n",
       "      <td>&gt;8</td>\n",
       "      <td>Ch</td>\n",
       "      <td>NO</td>\n",
       "      <td>[Glipizide]</td>\n",
       "      <td>0.0</td>\n",
       "      <td>0.0</td>\n",
       "      <td>1.0</td>\n",
       "      <td>0.0</td>\n",
       "      <td>0.0</td>\n",
       "      <td>0.0</td>\n",
       "      <td>0.0</td>\n",
       "      <td>0.0</td>\n",
       "      <td>0.0</td>\n",
       "      <td>0.0</td>\n",
       "      <td>0.0</td>\n",
       "      <td>0.0</td>\n",
       "      <td>0.0</td>\n",
       "      <td>0.0</td>\n",
       "      <td>0.0</td>\n",
       "      <td>0.0</td>\n",
       "      <td>0.0</td>\n",
       "      <td>0.0</td>\n",
       "      <td>0.0</td>\n",
       "      <td>0.0</td>\n",
       "      <td>0.0</td>\n",
       "    </tr>\n",
       "    <tr>\n",
       "      <th>3</th>\n",
       "      <td>927</td>\n",
       "      <td>14824206</td>\n",
       "      <td>AfricanAmerican</td>\n",
       "      <td>Female</td>\n",
       "      <td>[30-40)</td>\n",
       "      <td>?</td>\n",
       "      <td>1</td>\n",
       "      <td>1</td>\n",
       "      <td>7</td>\n",
       "      <td>5</td>\n",
       "      <td>?</td>\n",
       "      <td>InternalMedicine</td>\n",
       "      <td>590</td>\n",
       "      <td>220|250</td>\n",
       "      <td>0</td>\n",
       "      <td>0</td>\n",
       "      <td>0</td>\n",
       "      <td>49</td>\n",
       "      <td>3</td>\n",
       "      <td>5</td>\n",
       "      <td>0</td>\n",
       "      <td>42571-104</td>\n",
       "      <td>None</td>\n",
       "      <td>None</td>\n",
       "      <td>No</td>\n",
       "      <td>NO</td>\n",
       "      <td>[Human Insulin]</td>\n",
       "      <td>0.0</td>\n",
       "      <td>0.0</td>\n",
       "      <td>0.0</td>\n",
       "      <td>0.0</td>\n",
       "      <td>0.0</td>\n",
       "      <td>0.0</td>\n",
       "      <td>0.0</td>\n",
       "      <td>1.0</td>\n",
       "      <td>0.0</td>\n",
       "      <td>0.0</td>\n",
       "      <td>0.0</td>\n",
       "      <td>0.0</td>\n",
       "      <td>0.0</td>\n",
       "      <td>0.0</td>\n",
       "      <td>0.0</td>\n",
       "      <td>0.0</td>\n",
       "      <td>0.0</td>\n",
       "      <td>0.0</td>\n",
       "      <td>0.0</td>\n",
       "      <td>0.0</td>\n",
       "      <td>0.0</td>\n",
       "    </tr>\n",
       "    <tr>\n",
       "      <th>4</th>\n",
       "      <td>1152</td>\n",
       "      <td>8380170</td>\n",
       "      <td>AfricanAmerican</td>\n",
       "      <td>Female</td>\n",
       "      <td>[50-60)</td>\n",
       "      <td>?</td>\n",
       "      <td>1</td>\n",
       "      <td>1</td>\n",
       "      <td>7</td>\n",
       "      <td>6</td>\n",
       "      <td>?</td>\n",
       "      <td>Hematology/Oncology</td>\n",
       "      <td>282</td>\n",
       "      <td>250.01|?</td>\n",
       "      <td>0</td>\n",
       "      <td>1</td>\n",
       "      <td>0</td>\n",
       "      <td>43</td>\n",
       "      <td>2</td>\n",
       "      <td>13</td>\n",
       "      <td>2</td>\n",
       "      <td>47918-902</td>\n",
       "      <td>None</td>\n",
       "      <td>None</td>\n",
       "      <td>No</td>\n",
       "      <td>&gt;30</td>\n",
       "      <td>[Human Insulin]</td>\n",
       "      <td>0.0</td>\n",
       "      <td>0.0</td>\n",
       "      <td>0.0</td>\n",
       "      <td>0.0</td>\n",
       "      <td>0.0</td>\n",
       "      <td>0.0</td>\n",
       "      <td>0.0</td>\n",
       "      <td>1.0</td>\n",
       "      <td>0.0</td>\n",
       "      <td>0.0</td>\n",
       "      <td>0.0</td>\n",
       "      <td>0.0</td>\n",
       "      <td>0.0</td>\n",
       "      <td>0.0</td>\n",
       "      <td>0.0</td>\n",
       "      <td>0.0</td>\n",
       "      <td>0.0</td>\n",
       "      <td>0.0</td>\n",
       "      <td>0.0</td>\n",
       "      <td>0.0</td>\n",
       "      <td>0.0</td>\n",
       "    </tr>\n",
       "  </tbody>\n",
       "</table>\n",
       "</div>"
      ],
      "text/plain": [
       "   patient_nbr  encounter_id             race  gender      age weight  \\\n",
       "0          135      24437208        Caucasian  Female  [50-60)      ?   \n",
       "1          729     189899286        Caucasian  Female  [80-90)      ?   \n",
       "2          774      64331490        Caucasian  Female  [80-90)      ?   \n",
       "3          927      14824206  AfricanAmerican  Female  [30-40)      ?   \n",
       "4         1152       8380170  AfricanAmerican  Female  [50-60)      ?   \n",
       "\n",
       "   admission_type_id  discharge_disposition_id  admission_source_id  \\\n",
       "0                  2                         1                    1   \n",
       "1                  1                         3                    7   \n",
       "2                  1                         1                    7   \n",
       "3                  1                         1                    7   \n",
       "4                  1                         1                    7   \n",
       "\n",
       "   time_in_hospital payer_code    medical_specialty primary_diagnosis_code  \\\n",
       "0                 8          ?           Cardiology                    401   \n",
       "1                 4         MC     InternalMedicine                    820   \n",
       "2                 3          ?     InternalMedicine                    274   \n",
       "3                 5          ?     InternalMedicine                    590   \n",
       "4                 6          ?  Hematology/Oncology                    282   \n",
       "\n",
       "  other_diagnosis_codes  number_outpatient  number_inpatient  \\\n",
       "0               997|560                  0                 0   \n",
       "1              493|E880                  0                 0   \n",
       "2               427|416                  0                 0   \n",
       "3               220|250                  0                 0   \n",
       "4              250.01|?                  0                 1   \n",
       "\n",
       "   number_emergency  num_lab_procedures  number_diagnoses  num_medications  \\\n",
       "0                 0                  77                 8               33   \n",
       "1                 0                  68                 9               23   \n",
       "2                 0                  46                 9               20   \n",
       "3                 0                  49                 3                5   \n",
       "4                 0                  43                 2               13   \n",
       "\n",
       "   num_procedures   ndc_code max_glu_serum A1Cresult change readmitted  \\\n",
       "0               6  42291-559          None      None     Ch        <30   \n",
       "1               2  0615-7982          None        >7     No         NO   \n",
       "2               0  0378-7185          None        >8     Ch         NO   \n",
       "3               0  42571-104          None      None     No         NO   \n",
       "4               2  47918-902          None      None     No        >30   \n",
       "\n",
       "     generic_drug_name_array  Acarbose  Glimepiride  Glipizide  \\\n",
       "0            [Human Insulin]       0.0          0.0        0.0   \n",
       "1  [Metformin Hydrochloride]       0.0          0.0        0.0   \n",
       "2                [Glipizide]       0.0          0.0        1.0   \n",
       "3            [Human Insulin]       0.0          0.0        0.0   \n",
       "4            [Human Insulin]       0.0          0.0        0.0   \n",
       "\n",
       "   Glipizide_And_Metformin_Hydrochloride  Glyburide  \\\n",
       "0                                    0.0        0.0   \n",
       "1                                    0.0        0.0   \n",
       "2                                    0.0        0.0   \n",
       "3                                    0.0        0.0   \n",
       "4                                    0.0        0.0   \n",
       "\n",
       "   Glyburide_And_Metformin_Hydrochloride  Glyburide-metformin_Hydrochloride  \\\n",
       "0                                    0.0                                0.0   \n",
       "1                                    0.0                                0.0   \n",
       "2                                    0.0                                0.0   \n",
       "3                                    0.0                                0.0   \n",
       "4                                    0.0                                0.0   \n",
       "\n",
       "   Human_Insulin  Insulin_Human  Metformin_Hcl  Metformin_Hydrochloride  \\\n",
       "0            1.0            0.0            0.0                      0.0   \n",
       "1            0.0            0.0            0.0                      1.0   \n",
       "2            0.0            0.0            0.0                      0.0   \n",
       "3            1.0            0.0            0.0                      0.0   \n",
       "4            1.0            0.0            0.0                      0.0   \n",
       "\n",
       "   Miglitol  Nateglinide  Pioglitazole_And_Metformin_Hydrochloride  \\\n",
       "0       0.0          0.0                                       0.0   \n",
       "1       0.0          0.0                                       0.0   \n",
       "2       0.0          0.0                                       0.0   \n",
       "3       0.0          0.0                                       0.0   \n",
       "4       0.0          0.0                                       0.0   \n",
       "\n",
       "   Pioglitazone  Pioglitazone_And_Glimepiride  \\\n",
       "0           0.0                           0.0   \n",
       "1           0.0                           0.0   \n",
       "2           0.0                           0.0   \n",
       "3           0.0                           0.0   \n",
       "4           0.0                           0.0   \n",
       "\n",
       "   Pioglitazone_Hydrochloride_And_Glimepiride  Repaglinide  \\\n",
       "0                                         0.0          0.0   \n",
       "1                                         0.0          0.0   \n",
       "2                                         0.0          0.0   \n",
       "3                                         0.0          0.0   \n",
       "4                                         0.0          0.0   \n",
       "\n",
       "   Rosiglitazone_Maleate  Tolazamide  Tolbutamide  \n",
       "0                    0.0         0.0          0.0  \n",
       "1                    0.0         0.0          0.0  \n",
       "2                    0.0         0.0          0.0  \n",
       "3                    0.0         0.0          0.0  \n",
       "4                    0.0         0.0          0.0  "
      ]
     },
     "execution_count": 18,
     "metadata": {},
     "output_type": "execute_result"
    }
   ],
   "source": [
    "agg_drug_df.head()"
   ]
  },
  {
   "cell_type": "code",
   "execution_count": 19,
   "metadata": {},
   "outputs": [],
   "source": [
    "'''\n",
    "Please update the list to include the features you think are appropriate for the model \n",
    "and the field that we will be using to train the model. There are three required demographic features for the model \n",
    "and I have inserted a list with them already in the categorical list. \n",
    "These will be required for later steps when analyzing data splits and model biases.\n",
    "'''\n",
    "required_demo_col_list = ['race', 'gender', 'age']\n",
    "student_categorical_col_list = [ \"admission_type_id\",\"primary_diagnosis_code\",\"generic_drug_name_array\"] + required_demo_col_list + ndc_col_list\n",
    "student_numerical_col_list = [\"num_lab_procedures\",\"number_diagnoses\",\"num_procedures\",\"num_medications\"]\n",
    "PREDICTOR_FIELD = \"time_in_hospital\""
   ]
  },
  {
   "cell_type": "code",
   "execution_count": 20,
   "metadata": {},
   "outputs": [],
   "source": [
    "def select_model_features(df, categorical_col_list, numerical_col_list, PREDICTOR_FIELD, grouping_key='patient_nbr'):\n",
    "    selected_col_list = [grouping_key] + [PREDICTOR_FIELD] + categorical_col_list + numerical_col_list   \n",
    "    return agg_drug_df[selected_col_list]\n"
   ]
  },
  {
   "cell_type": "code",
   "execution_count": 21,
   "metadata": {},
   "outputs": [],
   "source": [
    "selected_features_df = select_model_features(agg_drug_df, student_categorical_col_list, student_numerical_col_list,\n",
    "                                            PREDICTOR_FIELD)"
   ]
  },
  {
   "cell_type": "markdown",
   "metadata": {},
   "source": [
    "### Preprocess Dataset - Casting and Imputing  "
   ]
  },
  {
   "cell_type": "markdown",
   "metadata": {},
   "source": [
    "We will cast and impute the dataset before splitting so that we do not have to repeat these steps across the splits in the next step. For imputing, there can be deeper analysis into which features to impute and how to impute but for the sake of time, we are taking a general strategy of imputing zero for only numerical features. \n",
    "\n",
    "OPTIONAL: What are some potential issues with this approach? Can you recommend a better way and also implement it?"
   ]
  },
  {
   "cell_type": "code",
   "execution_count": 22,
   "metadata": {},
   "outputs": [
    {
     "name": "stderr",
     "output_type": "stream",
     "text": [
      "C:\\Users\\joshu\\diabetes_proj\\utils.py:29: SettingWithCopyWarning: \n",
      "A value is trying to be set on a copy of a slice from a DataFrame.\n",
      "Try using .loc[row_indexer,col_indexer] = value instead\n",
      "\n",
      "See the caveats in the documentation: https://pandas.pydata.org/pandas-docs/stable/user_guide/indexing.html#returning-a-view-versus-a-copy\n",
      "  df[predictor] = df[predictor].astype(float)\n",
      "C:\\Users\\joshu\\diabetes_proj\\utils.py:31: SettingWithCopyWarning: \n",
      "A value is trying to be set on a copy of a slice from a DataFrame.\n",
      "Try using .loc[row_indexer,col_indexer] = value instead\n",
      "\n",
      "See the caveats in the documentation: https://pandas.pydata.org/pandas-docs/stable/user_guide/indexing.html#returning-a-view-versus-a-copy\n",
      "  df[c] = cast_df(df, c, d_type=str)\n",
      "C:\\Users\\joshu\\diabetes_proj\\utils.py:33: SettingWithCopyWarning: \n",
      "A value is trying to be set on a copy of a slice from a DataFrame.\n",
      "Try using .loc[row_indexer,col_indexer] = value instead\n",
      "\n",
      "See the caveats in the documentation: https://pandas.pydata.org/pandas-docs/stable/user_guide/indexing.html#returning-a-view-versus-a-copy\n",
      "  df[numerical_column] = impute_df(df, numerical_column, numerical_impute_value)\n"
     ]
    }
   ],
   "source": [
    "processed_df = preprocess_df(selected_features_df, student_categorical_col_list, \n",
    "        student_numerical_col_list, PREDICTOR_FIELD, categorical_impute_value='nan', numerical_impute_value=0)"
   ]
  },
  {
   "cell_type": "markdown",
   "metadata": {},
   "source": [
    "## Split Dataset into Train, Validation, and Test Partitions"
   ]
  },
  {
   "cell_type": "markdown",
   "metadata": {},
   "source": [
    "**Question 6**: In order to prepare the data for being trained and evaluated by a deep learning model, we will split the dataset into three partitions, with the validation partition used for optimizing the model hyperparameters during training. One of the key parts is that we need to be sure that the data does not accidently leak across partitions.\n",
    "\n",
    "Please complete the function below to split the input dataset into three partitions(train, validation, test) with the following requirements.\n",
    "- Approximately 60%/20%/20%  train/validation/test split\n",
    "- Randomly sample different patients into each data partition\n",
    "- **IMPORTANT** Make sure that a patient's data is not in more than one partition, so that we can avoid possible data leakage.\n",
    "- Make sure that the total number of unique patients across the splits is equal to the total number of unique patients in the original dataset\n",
    "- Total number of rows in original dataset = sum of rows across all three dataset partitions"
   ]
  },
  {
   "cell_type": "code",
   "execution_count": 23,
   "metadata": {},
   "outputs": [],
   "source": [
    "from student_utils import patient_dataset_splitter\n",
    "d_train, d_val, d_test = patient_dataset_splitter(processed_df, 'patient_nbr')"
   ]
  },
  {
   "cell_type": "code",
   "execution_count": 24,
   "metadata": {},
   "outputs": [
    {
     "name": "stdout",
     "output_type": "stream",
     "text": [
      "Test passed for number of total rows equal!\n"
     ]
    }
   ],
   "source": [
    "assert len(d_train) + len(d_val) + len(d_test) == len(processed_df)\n",
    "print(\"Test passed for number of total rows equal!\")"
   ]
  },
  {
   "cell_type": "code",
   "execution_count": 25,
   "metadata": {},
   "outputs": [
    {
     "name": "stdout",
     "output_type": "stream",
     "text": [
      "Test passed for number of unique patients being equal!\n"
     ]
    }
   ],
   "source": [
    "assert (d_train['patient_nbr'].nunique() + d_val['patient_nbr'].nunique() + d_test['patient_nbr'].nunique()) == agg_drug_df['patient_nbr'].nunique()\n",
    "print(\"Test passed for number of unique patients being equal!\")"
   ]
  },
  {
   "cell_type": "markdown",
   "metadata": {},
   "source": [
    "## Demographic Representation Analysis of Split"
   ]
  },
  {
   "cell_type": "markdown",
   "metadata": {},
   "source": [
    "After the split, we should check to see the distribution of key features/groups and make sure that there is representative samples across the partitions. The show_group_stats_viz function in the utils.py file can be used to group and visualize different groups and dataframe partitions."
   ]
  },
  {
   "cell_type": "markdown",
   "metadata": {},
   "source": [
    "### Label Distribution Across Partitions"
   ]
  },
  {
   "cell_type": "markdown",
   "metadata": {},
   "source": [
    "Below you can see the distributution of the label across your splits. Are the histogram distribution shapes similar across partitions?"
   ]
  },
  {
   "cell_type": "code",
   "execution_count": 26,
   "metadata": {},
   "outputs": [
    {
     "name": "stdout",
     "output_type": "stream",
     "text": [
      "time_in_hospital\n",
      "1.0      7694\n",
      "2.0      9526\n",
      "3.0     10065\n",
      "4.0      7666\n",
      "5.0      5518\n",
      "6.0      4095\n",
      "7.0      3224\n",
      "8.0      2376\n",
      "9.0      1643\n",
      "10.0     1276\n",
      "11.0     1030\n",
      "12.0      798\n",
      "13.0      671\n",
      "14.0      551\n",
      "dtype: int64\n",
      "AxesSubplot(0.125,0.11;0.775x0.77)\n"
     ]
    },
    {
     "data": {
      "image/png": "[encoded data removed]",
      "text/plain": [
       "<Figure size 640x480 with 1 Axes>"
      ]
     },
     "metadata": {},
     "output_type": "display_data"
    }
   ],
   "source": [
    "show_group_stats_viz(processed_df, PREDICTOR_FIELD)"
   ]
  },
  {
   "cell_type": "code",
   "execution_count": 27,
   "metadata": {},
   "outputs": [
    {
     "name": "stdout",
     "output_type": "stream",
     "text": [
      "time_in_hospital\n",
      "1.0     4532\n",
      "2.0     5776\n",
      "3.0     6019\n",
      "4.0     4679\n",
      "5.0     3365\n",
      "6.0     2401\n",
      "7.0     1915\n",
      "8.0     1404\n",
      "9.0      979\n",
      "10.0     762\n",
      "11.0     603\n",
      "12.0     475\n",
      "13.0     420\n",
      "14.0     349\n",
      "dtype: int64\n",
      "AxesSubplot(0.125,0.11;0.775x0.77)\n"
     ]
    },
    {
     "data": {
      "image/png": "[encoded data removed]",
      "text/plain": [
       "<Figure size 640x480 with 1 Axes>"
      ]
     },
     "metadata": {},
     "output_type": "display_data"
    }
   ],
   "source": [
    "show_group_stats_viz(d_train, PREDICTOR_FIELD)"
   ]
  },
  {
   "cell_type": "code",
   "execution_count": 28,
   "metadata": {},
   "outputs": [
    {
     "name": "stdout",
     "output_type": "stream",
     "text": [
      "time_in_hospital\n",
      "1.0     1572\n",
      "2.0     1877\n",
      "3.0     1993\n",
      "4.0     1530\n",
      "5.0     1106\n",
      "6.0      849\n",
      "7.0      640\n",
      "8.0      469\n",
      "9.0      359\n",
      "10.0     251\n",
      "11.0     216\n",
      "12.0     150\n",
      "13.0     116\n",
      "14.0      99\n",
      "dtype: int64\n",
      "AxesSubplot(0.125,0.11;0.775x0.77)\n"
     ]
    },
    {
     "data": {
      "image/png": "[encoded data removed]",
      "text/plain": [
       "<Figure size 640x480 with 1 Axes>"
      ]
     },
     "metadata": {},
     "output_type": "display_data"
    }
   ],
   "source": [
    "show_group_stats_viz(d_test, PREDICTOR_FIELD)"
   ]
  },
  {
   "cell_type": "markdown",
   "metadata": {},
   "source": [
    "## Demographic Group Analysis"
   ]
  },
  {
   "cell_type": "markdown",
   "metadata": {},
   "source": [
    "We should check that our partitions/splits of the dataset are similar in terms of their demographic profiles. Below you can see how we might visualize and analyze the full dataset vs. the partitions."
   ]
  },
  {
   "cell_type": "code",
   "execution_count": 29,
   "metadata": {},
   "outputs": [
    {
     "name": "stdout",
     "output_type": "stream",
     "text": [
      "gender\n",
      "Female             29583\n",
      "Male               26548\n",
      "Unknown/Invalid        2\n",
      "dtype: int64\n",
      "AxesSubplot(0.125,0.11;0.775x0.77)\n"
     ]
    },
    {
     "data": {
      "image/png": "[encoded data removed]",
      "text/plain": [
       "<Figure size 640x480 with 1 Axes>"
      ]
     },
     "metadata": {},
     "output_type": "display_data"
    }
   ],
   "source": [
    "# Full dataset before splitting\n",
    "patient_demo_features = ['race', 'gender', 'age', 'patient_nbr']\n",
    "patient_group_analysis_df = processed_df[patient_demo_features].groupby('patient_nbr').head(1).reset_index(drop=True)\n",
    "show_group_stats_viz(patient_group_analysis_df, 'gender')"
   ]
  },
  {
   "cell_type": "code",
   "execution_count": 30,
   "metadata": {},
   "outputs": [
    {
     "name": "stdout",
     "output_type": "stream",
     "text": [
      "gender\n",
      "Female             17608\n",
      "Male               16069\n",
      "Unknown/Invalid        2\n",
      "dtype: int64\n",
      "AxesSubplot(0.125,0.11;0.775x0.77)\n"
     ]
    },
    {
     "data": {
      "image/png": "[encoded data removed]",
      "text/plain": [
       "<Figure size 640x480 with 1 Axes>"
      ]
     },
     "metadata": {},
     "output_type": "display_data"
    }
   ],
   "source": [
    "# Training partition\n",
    "show_group_stats_viz(d_train, 'gender')"
   ]
  },
  {
   "cell_type": "code",
   "execution_count": 31,
   "metadata": {},
   "outputs": [
    {
     "name": "stdout",
     "output_type": "stream",
     "text": [
      "gender\n",
      "Female    6041\n",
      "Male      5186\n",
      "dtype: int64\n",
      "AxesSubplot(0.125,0.11;0.775x0.77)\n"
     ]
    },
    {
     "data": {
      "image/png": "[encoded data removed]",
      "text/plain": [
       "<Figure size 640x480 with 1 Axes>"
      ]
     },
     "metadata": {},
     "output_type": "display_data"
    }
   ],
   "source": [
    "# Test partition\n",
    "show_group_stats_viz(d_test, 'gender')"
   ]
  },
  {
   "cell_type": "markdown",
   "metadata": {},
   "source": [
    "## Convert Dataset Splits to TF Dataset"
   ]
  },
  {
   "cell_type": "markdown",
   "metadata": {},
   "source": [
    "We have provided you the function to convert the Pandas dataframe to TF tensors using the TF Dataset API. \n",
    "Please note that this is not a scalable method and for larger datasets, the 'make_csv_dataset' method is recommended -https://www.tensorflow.org/api_docs/python/tf/data/experimental/make_csv_dataset."
   ]
  },
  {
   "cell_type": "code",
   "execution_count": 32,
   "metadata": {},
   "outputs": [],
   "source": [
    "# Convert dataset from Pandas dataframes to TF dataset \n",
    "batch_size = 128\n",
    "diabetes_train_ds = df_to_dataset(d_train, PREDICTOR_FIELD, batch_size=batch_size)\n",
    "diabetes_val_ds = df_to_dataset(d_val, PREDICTOR_FIELD, batch_size=batch_size)\n",
    "diabetes_test_ds = df_to_dataset(d_test, PREDICTOR_FIELD, batch_size=batch_size)"
   ]
  },
  {
   "cell_type": "code",
   "execution_count": 33,
   "metadata": {},
   "outputs": [],
   "source": [
    "# We use this sample of the dataset to show transformations later\n",
    "diabetes_batch = next(iter(diabetes_train_ds))[0]\n",
    "def demo(feature_column, example_batch):\n",
    "    feature_layer = layers.DenseFeatures(feature_column)\n",
    "    print(feature_layer(example_batch))"
   ]
  },
  {
   "cell_type": "markdown",
   "metadata": {},
   "source": [
    "# 4. Create Categorical Features with TF Feature Columns"
   ]
  },
  {
   "cell_type": "markdown",
   "metadata": {},
   "source": [
    "## Build Vocabulary for Categorical Features"
   ]
  },
  {
   "cell_type": "markdown",
   "metadata": {},
   "source": [
    "Before we can create the TF categorical features, we must first create the vocab files with the unique values for a given field that are from the **training** dataset. Below we have provided a function that you can use that only requires providing the pandas train dataset partition and the list of the categorical columns in a list format. The output variable 'vocab_file_list' will be a list of the file paths that can be used in the next step for creating the categorical features."
   ]
  },
  {
   "cell_type": "code",
   "execution_count": 34,
   "metadata": {},
   "outputs": [],
   "source": [
    "vocab_file_list = build_vocab_files(d_train, student_categorical_col_list)"
   ]
  },
  {
   "cell_type": "markdown",
   "metadata": {},
   "source": [
    "## Create Categorical Features with Tensorflow Feature Column API"
   ]
  },
  {
   "cell_type": "markdown",
   "metadata": {},
   "source": [
    "**Question 7**: Using the vocab file list from above that was derived fromt the features you selected earlier, please create categorical features with the Tensorflow Feature Column API, https://www.tensorflow.org/api_docs/python/tf/feature_column. Below is a function to help guide you."
   ]
  },
  {
   "cell_type": "code",
   "execution_count": 35,
   "metadata": {
    "scrolled": true
   },
   "outputs": [
    {
     "name": "stdout",
     "output_type": "stream",
     "text": [
      "WARNING:tensorflow:From C:\\Users\\joshu\\diabetes_proj\\student_utils.py:66: categorical_column_with_vocabulary_file_v2 (from tensorflow.python.feature_column.feature_column_v2) is deprecated and will be removed in a future version.\n",
      "Instructions for updating:\n",
      "Use Keras preprocessing layers instead, either directly or via the `tf.keras.utils.FeatureSpace` utility. Each of `tf.feature_column.*` has a functional equivalent in `tf.keras.layers` for feature preprocessing when training a Keras model.\n"
     ]
    },
    {
     "name": "stderr",
     "output_type": "stream",
     "text": [
      "WARNING:tensorflow:From C:\\Users\\joshu\\diabetes_proj\\student_utils.py:66: categorical_column_with_vocabulary_file_v2 (from tensorflow.python.feature_column.feature_column_v2) is deprecated and will be removed in a future version.\n",
      "Instructions for updating:\n",
      "Use Keras preprocessing layers instead, either directly or via the `tf.keras.utils.FeatureSpace` utility. Each of `tf.feature_column.*` has a functional equivalent in `tf.keras.layers` for feature preprocessing when training a Keras model.\n"
     ]
    },
    {
     "name": "stdout",
     "output_type": "stream",
     "text": [
      "INFO:tensorflow:vocabulary_size = 9 in admission_type_id is inferred from the number of elements in the vocabulary_file ./diabetes_vocab/admission_type_id_vocab.txt.\n"
     ]
    },
    {
     "name": "stderr",
     "output_type": "stream",
     "text": [
      "INFO:tensorflow:vocabulary_size = 9 in admission_type_id is inferred from the number of elements in the vocabulary_file ./diabetes_vocab/admission_type_id_vocab.txt.\n"
     ]
    },
    {
     "name": "stdout",
     "output_type": "stream",
     "text": [
      "WARNING:tensorflow:From C:\\Users\\joshu\\diabetes_proj\\student_utils.py:72: embedding_column (from tensorflow.python.feature_column.feature_column_v2) is deprecated and will be removed in a future version.\n",
      "Instructions for updating:\n",
      "Use Keras preprocessing layers instead, either directly or via the `tf.keras.utils.FeatureSpace` utility. Each of `tf.feature_column.*` has a functional equivalent in `tf.keras.layers` for feature preprocessing when training a Keras model.\n"
     ]
    },
    {
     "name": "stderr",
     "output_type": "stream",
     "text": [
      "WARNING:tensorflow:From C:\\Users\\joshu\\diabetes_proj\\student_utils.py:72: embedding_column (from tensorflow.python.feature_column.feature_column_v2) is deprecated and will be removed in a future version.\n",
      "Instructions for updating:\n",
      "Use Keras preprocessing layers instead, either directly or via the `tf.keras.utils.FeatureSpace` utility. Each of `tf.feature_column.*` has a functional equivalent in `tf.keras.layers` for feature preprocessing when training a Keras model.\n"
     ]
    },
    {
     "name": "stdout",
     "output_type": "stream",
     "text": [
      "INFO:tensorflow:vocabulary_size = 611 in primary_diagnosis_code is inferred from the number of elements in the vocabulary_file ./diabetes_vocab/primary_diagnosis_code_vocab.txt.\n"
     ]
    },
    {
     "name": "stderr",
     "output_type": "stream",
     "text": [
      "INFO:tensorflow:vocabulary_size = 611 in primary_diagnosis_code is inferred from the number of elements in the vocabulary_file ./diabetes_vocab/primary_diagnosis_code_vocab.txt.\n"
     ]
    },
    {
     "name": "stdout",
     "output_type": "stream",
     "text": [
      "INFO:tensorflow:vocabulary_size = 22 in generic_drug_name_array is inferred from the number of elements in the vocabulary_file ./diabetes_vocab/generic_drug_name_array_vocab.txt.\n"
     ]
    },
    {
     "name": "stderr",
     "output_type": "stream",
     "text": [
      "INFO:tensorflow:vocabulary_size = 22 in generic_drug_name_array is inferred from the number of elements in the vocabulary_file ./diabetes_vocab/generic_drug_name_array_vocab.txt.\n"
     ]
    },
    {
     "name": "stdout",
     "output_type": "stream",
     "text": [
      "INFO:tensorflow:vocabulary_size = 7 in race is inferred from the number of elements in the vocabulary_file ./diabetes_vocab/race_vocab.txt.\n"
     ]
    },
    {
     "name": "stderr",
     "output_type": "stream",
     "text": [
      "INFO:tensorflow:vocabulary_size = 7 in race is inferred from the number of elements in the vocabulary_file ./diabetes_vocab/race_vocab.txt.\n"
     ]
    },
    {
     "name": "stdout",
     "output_type": "stream",
     "text": [
      "INFO:tensorflow:vocabulary_size = 4 in gender is inferred from the number of elements in the vocabulary_file ./diabetes_vocab/gender_vocab.txt.\n"
     ]
    },
    {
     "name": "stderr",
     "output_type": "stream",
     "text": [
      "INFO:tensorflow:vocabulary_size = 4 in gender is inferred from the number of elements in the vocabulary_file ./diabetes_vocab/gender_vocab.txt.\n"
     ]
    },
    {
     "name": "stdout",
     "output_type": "stream",
     "text": [
      "INFO:tensorflow:vocabulary_size = 11 in age is inferred from the number of elements in the vocabulary_file ./diabetes_vocab/age_vocab.txt.\n"
     ]
    },
    {
     "name": "stderr",
     "output_type": "stream",
     "text": [
      "INFO:tensorflow:vocabulary_size = 11 in age is inferred from the number of elements in the vocabulary_file ./diabetes_vocab/age_vocab.txt.\n"
     ]
    },
    {
     "name": "stdout",
     "output_type": "stream",
     "text": [
      "INFO:tensorflow:vocabulary_size = 4 in Acarbose is inferred from the number of elements in the vocabulary_file ./diabetes_vocab/Acarbose_vocab.txt.\n"
     ]
    },
    {
     "name": "stderr",
     "output_type": "stream",
     "text": [
      "INFO:tensorflow:vocabulary_size = 4 in Acarbose is inferred from the number of elements in the vocabulary_file ./diabetes_vocab/Acarbose_vocab.txt.\n"
     ]
    },
    {
     "name": "stdout",
     "output_type": "stream",
     "text": [
      "INFO:tensorflow:vocabulary_size = 4 in Glimepiride is inferred from the number of elements in the vocabulary_file ./diabetes_vocab/Glimepiride_vocab.txt.\n"
     ]
    },
    {
     "name": "stderr",
     "output_type": "stream",
     "text": [
      "INFO:tensorflow:vocabulary_size = 4 in Glimepiride is inferred from the number of elements in the vocabulary_file ./diabetes_vocab/Glimepiride_vocab.txt.\n"
     ]
    },
    {
     "name": "stdout",
     "output_type": "stream",
     "text": [
      "INFO:tensorflow:vocabulary_size = 4 in Glipizide is inferred from the number of elements in the vocabulary_file ./diabetes_vocab/Glipizide_vocab.txt.\n"
     ]
    },
    {
     "name": "stderr",
     "output_type": "stream",
     "text": [
      "INFO:tensorflow:vocabulary_size = 4 in Glipizide is inferred from the number of elements in the vocabulary_file ./diabetes_vocab/Glipizide_vocab.txt.\n"
     ]
    },
    {
     "name": "stdout",
     "output_type": "stream",
     "text": [
      "INFO:tensorflow:vocabulary_size = 4 in Glipizide_And_Metformin_Hydrochloride is inferred from the number of elements in the vocabulary_file ./diabetes_vocab/Glipizide_And_Metformin_Hydrochloride_vocab.txt.\n"
     ]
    },
    {
     "name": "stderr",
     "output_type": "stream",
     "text": [
      "INFO:tensorflow:vocabulary_size = 4 in Glipizide_And_Metformin_Hydrochloride is inferred from the number of elements in the vocabulary_file ./diabetes_vocab/Glipizide_And_Metformin_Hydrochloride_vocab.txt.\n"
     ]
    },
    {
     "name": "stdout",
     "output_type": "stream",
     "text": [
      "INFO:tensorflow:vocabulary_size = 4 in Glyburide is inferred from the number of elements in the vocabulary_file ./diabetes_vocab/Glyburide_vocab.txt.\n"
     ]
    },
    {
     "name": "stderr",
     "output_type": "stream",
     "text": [
      "INFO:tensorflow:vocabulary_size = 4 in Glyburide is inferred from the number of elements in the vocabulary_file ./diabetes_vocab/Glyburide_vocab.txt.\n"
     ]
    },
    {
     "name": "stdout",
     "output_type": "stream",
     "text": [
      "INFO:tensorflow:vocabulary_size = 4 in Glyburide_And_Metformin_Hydrochloride is inferred from the number of elements in the vocabulary_file ./diabetes_vocab/Glyburide_And_Metformin_Hydrochloride_vocab.txt.\n"
     ]
    },
    {
     "name": "stderr",
     "output_type": "stream",
     "text": [
      "INFO:tensorflow:vocabulary_size = 4 in Glyburide_And_Metformin_Hydrochloride is inferred from the number of elements in the vocabulary_file ./diabetes_vocab/Glyburide_And_Metformin_Hydrochloride_vocab.txt.\n"
     ]
    },
    {
     "name": "stdout",
     "output_type": "stream",
     "text": [
      "INFO:tensorflow:vocabulary_size = 4 in Glyburide-metformin_Hydrochloride is inferred from the number of elements in the vocabulary_file ./diabetes_vocab/Glyburide-metformin_Hydrochloride_vocab.txt.\n"
     ]
    },
    {
     "name": "stderr",
     "output_type": "stream",
     "text": [
      "INFO:tensorflow:vocabulary_size = 4 in Glyburide-metformin_Hydrochloride is inferred from the number of elements in the vocabulary_file ./diabetes_vocab/Glyburide-metformin_Hydrochloride_vocab.txt.\n"
     ]
    },
    {
     "name": "stdout",
     "output_type": "stream",
     "text": [
      "INFO:tensorflow:vocabulary_size = 4 in Human_Insulin is inferred from the number of elements in the vocabulary_file ./diabetes_vocab/Human_Insulin_vocab.txt.\n"
     ]
    },
    {
     "name": "stderr",
     "output_type": "stream",
     "text": [
      "INFO:tensorflow:vocabulary_size = 4 in Human_Insulin is inferred from the number of elements in the vocabulary_file ./diabetes_vocab/Human_Insulin_vocab.txt.\n"
     ]
    },
    {
     "name": "stdout",
     "output_type": "stream",
     "text": [
      "INFO:tensorflow:vocabulary_size = 4 in Insulin_Human is inferred from the number of elements in the vocabulary_file ./diabetes_vocab/Insulin_Human_vocab.txt.\n"
     ]
    },
    {
     "name": "stderr",
     "output_type": "stream",
     "text": [
      "INFO:tensorflow:vocabulary_size = 4 in Insulin_Human is inferred from the number of elements in the vocabulary_file ./diabetes_vocab/Insulin_Human_vocab.txt.\n"
     ]
    },
    {
     "name": "stdout",
     "output_type": "stream",
     "text": [
      "INFO:tensorflow:vocabulary_size = 4 in Metformin_Hcl is inferred from the number of elements in the vocabulary_file ./diabetes_vocab/Metformin_Hcl_vocab.txt.\n"
     ]
    },
    {
     "name": "stderr",
     "output_type": "stream",
     "text": [
      "INFO:tensorflow:vocabulary_size = 4 in Metformin_Hcl is inferred from the number of elements in the vocabulary_file ./diabetes_vocab/Metformin_Hcl_vocab.txt.\n"
     ]
    },
    {
     "name": "stdout",
     "output_type": "stream",
     "text": [
      "INFO:tensorflow:vocabulary_size = 4 in Metformin_Hydrochloride is inferred from the number of elements in the vocabulary_file ./diabetes_vocab/Metformin_Hydrochloride_vocab.txt.\n"
     ]
    },
    {
     "name": "stderr",
     "output_type": "stream",
     "text": [
      "INFO:tensorflow:vocabulary_size = 4 in Metformin_Hydrochloride is inferred from the number of elements in the vocabulary_file ./diabetes_vocab/Metformin_Hydrochloride_vocab.txt.\n"
     ]
    },
    {
     "name": "stdout",
     "output_type": "stream",
     "text": [
      "INFO:tensorflow:vocabulary_size = 4 in Miglitol is inferred from the number of elements in the vocabulary_file ./diabetes_vocab/Miglitol_vocab.txt.\n"
     ]
    },
    {
     "name": "stderr",
     "output_type": "stream",
     "text": [
      "INFO:tensorflow:vocabulary_size = 4 in Miglitol is inferred from the number of elements in the vocabulary_file ./diabetes_vocab/Miglitol_vocab.txt.\n"
     ]
    },
    {
     "name": "stdout",
     "output_type": "stream",
     "text": [
      "INFO:tensorflow:vocabulary_size = 4 in Nateglinide is inferred from the number of elements in the vocabulary_file ./diabetes_vocab/Nateglinide_vocab.txt.\n"
     ]
    },
    {
     "name": "stderr",
     "output_type": "stream",
     "text": [
      "INFO:tensorflow:vocabulary_size = 4 in Nateglinide is inferred from the number of elements in the vocabulary_file ./diabetes_vocab/Nateglinide_vocab.txt.\n"
     ]
    },
    {
     "name": "stdout",
     "output_type": "stream",
     "text": [
      "INFO:tensorflow:vocabulary_size = 3 in Pioglitazole_And_Metformin_Hydrochloride is inferred from the number of elements in the vocabulary_file ./diabetes_vocab/Pioglitazole_And_Metformin_Hydrochloride_vocab.txt.\n"
     ]
    },
    {
     "name": "stderr",
     "output_type": "stream",
     "text": [
      "INFO:tensorflow:vocabulary_size = 3 in Pioglitazole_And_Metformin_Hydrochloride is inferred from the number of elements in the vocabulary_file ./diabetes_vocab/Pioglitazole_And_Metformin_Hydrochloride_vocab.txt.\n"
     ]
    },
    {
     "name": "stdout",
     "output_type": "stream",
     "text": [
      "INFO:tensorflow:vocabulary_size = 4 in Pioglitazone is inferred from the number of elements in the vocabulary_file ./diabetes_vocab/Pioglitazone_vocab.txt.\n"
     ]
    },
    {
     "name": "stderr",
     "output_type": "stream",
     "text": [
      "INFO:tensorflow:vocabulary_size = 4 in Pioglitazone is inferred from the number of elements in the vocabulary_file ./diabetes_vocab/Pioglitazone_vocab.txt.\n"
     ]
    },
    {
     "name": "stdout",
     "output_type": "stream",
     "text": [
      "INFO:tensorflow:vocabulary_size = 4 in Pioglitazone_And_Glimepiride is inferred from the number of elements in the vocabulary_file ./diabetes_vocab/Pioglitazone_And_Glimepiride_vocab.txt.\n"
     ]
    },
    {
     "name": "stderr",
     "output_type": "stream",
     "text": [
      "INFO:tensorflow:vocabulary_size = 4 in Pioglitazone_And_Glimepiride is inferred from the number of elements in the vocabulary_file ./diabetes_vocab/Pioglitazone_And_Glimepiride_vocab.txt.\n"
     ]
    },
    {
     "name": "stdout",
     "output_type": "stream",
     "text": [
      "INFO:tensorflow:vocabulary_size = 4 in Pioglitazone_Hydrochloride_And_Glimepiride is inferred from the number of elements in the vocabulary_file ./diabetes_vocab/Pioglitazone_Hydrochloride_And_Glimepiride_vocab.txt.\n"
     ]
    },
    {
     "name": "stderr",
     "output_type": "stream",
     "text": [
      "INFO:tensorflow:vocabulary_size = 4 in Pioglitazone_Hydrochloride_And_Glimepiride is inferred from the number of elements in the vocabulary_file ./diabetes_vocab/Pioglitazone_Hydrochloride_And_Glimepiride_vocab.txt.\n"
     ]
    },
    {
     "name": "stdout",
     "output_type": "stream",
     "text": [
      "INFO:tensorflow:vocabulary_size = 4 in Repaglinide is inferred from the number of elements in the vocabulary_file ./diabetes_vocab/Repaglinide_vocab.txt.\n"
     ]
    },
    {
     "name": "stderr",
     "output_type": "stream",
     "text": [
      "INFO:tensorflow:vocabulary_size = 4 in Repaglinide is inferred from the number of elements in the vocabulary_file ./diabetes_vocab/Repaglinide_vocab.txt.\n"
     ]
    },
    {
     "name": "stdout",
     "output_type": "stream",
     "text": [
      "INFO:tensorflow:vocabulary_size = 4 in Rosiglitazone_Maleate is inferred from the number of elements in the vocabulary_file ./diabetes_vocab/Rosiglitazone_Maleate_vocab.txt.\n"
     ]
    },
    {
     "name": "stderr",
     "output_type": "stream",
     "text": [
      "INFO:tensorflow:vocabulary_size = 4 in Rosiglitazone_Maleate is inferred from the number of elements in the vocabulary_file ./diabetes_vocab/Rosiglitazone_Maleate_vocab.txt.\n"
     ]
    },
    {
     "name": "stdout",
     "output_type": "stream",
     "text": [
      "INFO:tensorflow:vocabulary_size = 4 in Tolazamide is inferred from the number of elements in the vocabulary_file ./diabetes_vocab/Tolazamide_vocab.txt.\n"
     ]
    },
    {
     "name": "stderr",
     "output_type": "stream",
     "text": [
      "INFO:tensorflow:vocabulary_size = 4 in Tolazamide is inferred from the number of elements in the vocabulary_file ./diabetes_vocab/Tolazamide_vocab.txt.\n"
     ]
    },
    {
     "name": "stdout",
     "output_type": "stream",
     "text": [
      "INFO:tensorflow:vocabulary_size = 4 in Tolbutamide is inferred from the number of elements in the vocabulary_file ./diabetes_vocab/Tolbutamide_vocab.txt.\n"
     ]
    },
    {
     "name": "stderr",
     "output_type": "stream",
     "text": [
      "INFO:tensorflow:vocabulary_size = 4 in Tolbutamide is inferred from the number of elements in the vocabulary_file ./diabetes_vocab/Tolbutamide_vocab.txt.\n"
     ]
    }
   ],
   "source": [
    "from student_utils import create_tf_categorical_feature_cols\n",
    "tf_cat_col_list = create_tf_categorical_feature_cols(student_categorical_col_list)"
   ]
  },
  {
   "cell_type": "code",
   "execution_count": 36,
   "metadata": {
    "scrolled": true
   },
   "outputs": [
    {
     "name": "stdout",
     "output_type": "stream",
     "text": [
      "EmbeddingColumn(categorical_column=VocabularyFileCategoricalColumn(key='admission_type_id', vocabulary_file='./diabetes_vocab/admission_type_id_vocab.txt', vocabulary_size=9, num_oov_buckets=1, dtype=tf.string, default_value=-1, file_format=None), dimension=10, combiner='mean', initializer=<tensorflow.python.ops.init_ops.TruncatedNormal object at 0x000002BCCDC94070>, ckpt_to_load_from=None, tensor_name_in_ckpt=None, max_norm=None, trainable=True, use_safe_embedding_lookup=True)\n",
      "Example categorical field:\n",
      "EmbeddingColumn(categorical_column=VocabularyFileCategoricalColumn(key='admission_type_id', vocabulary_file='./diabetes_vocab/admission_type_id_vocab.txt', vocabulary_size=9, num_oov_buckets=1, dtype=tf.string, default_value=-1, file_format=None), dimension=10, combiner='mean', initializer=<tensorflow.python.ops.init_ops.TruncatedNormal object at 0x000002BCCDC94070>, ckpt_to_load_from=None, tensor_name_in_ckpt=None, max_norm=None, trainable=True, use_safe_embedding_lookup=True)\n",
      "WARNING:tensorflow:From C:\\Users\\joshu\\AppData\\Local\\Programs\\Python\\Python310\\lib\\site-packages\\keras\\src\\backend.py:873: The name tf.get_default_graph is deprecated. Please use tf.compat.v1.get_default_graph instead.\n",
      "\n"
     ]
    },
    {
     "name": "stderr",
     "output_type": "stream",
     "text": [
      "WARNING:tensorflow:From C:\\Users\\joshu\\AppData\\Local\\Programs\\Python\\Python310\\lib\\site-packages\\keras\\src\\backend.py:873: The name tf.get_default_graph is deprecated. Please use tf.compat.v1.get_default_graph instead.\n",
      "\n"
     ]
    },
    {
     "name": "stdout",
     "output_type": "stream",
     "text": [
      "tf.Tensor(\n",
      "[[-0.32906097 -0.31735104  0.48031095 ...  0.4862222  -0.29782814\n",
      "  -0.40244606]\n",
      " [-0.09488715  0.3803562   0.1644446  ...  0.2054957   0.43599343\n",
      "  -0.0745424 ]\n",
      " [-0.32906097 -0.31735104  0.48031095 ...  0.4862222  -0.29782814\n",
      "  -0.40244606]\n",
      " ...\n",
      " [-0.32906097 -0.31735104  0.48031095 ...  0.4862222  -0.29782814\n",
      "  -0.40244606]\n",
      " [-0.32906097 -0.31735104  0.48031095 ...  0.4862222  -0.29782814\n",
      "  -0.40244606]\n",
      " [-0.35624272 -0.23168236 -0.3198049  ...  0.15729706  0.15377189\n",
      "  -0.42269135]], shape=(128, 10), dtype=float32)\n"
     ]
    }
   ],
   "source": [
    "test_cat_var1 = tf_cat_col_list[0]\n",
    "print(tf_cat_col_list[0])\n",
    "print(\"Example categorical field:\\n{}\".format(test_cat_var1))\n",
    "demo(test_cat_var1, diabetes_batch)"
   ]
  },
  {
   "cell_type": "markdown",
   "metadata": {},
   "source": [
    "# 5. Create Numerical Features with TF Feature Columns"
   ]
  },
  {
   "cell_type": "markdown",
   "metadata": {},
   "source": [
    "**Question 8**: Using the TF Feature Column API(https://www.tensorflow.org/api_docs/python/tf/feature_column/), please create normalized Tensorflow numeric features for the model. Try to use the z-score normalizer function below to help as well as the 'calculate_stats_from_train_data' function."
   ]
  },
  {
   "cell_type": "code",
   "execution_count": 37,
   "metadata": {},
   "outputs": [],
   "source": [
    "from student_utils import create_tf_numeric_feature"
   ]
  },
  {
   "cell_type": "markdown",
   "metadata": {},
   "source": [
    "For simplicity the create_tf_numerical_feature_cols function below uses the same normalizer function across all features(z-score normalization) but if you have time feel free to analyze and adapt the normalizer based off the statistical distributions. You may find this as a good resource in determining which transformation fits best for the data https://developers.google.com/machine-learning/data-prep/transform/normalization.\n"
   ]
  },
  {
   "cell_type": "code",
   "execution_count": 38,
   "metadata": {},
   "outputs": [],
   "source": [
    "def calculate_stats_from_train_data(df, col):\n",
    "    mean = df[col].describe()['mean']\n",
    "    std = df[col].describe()['std']\n",
    "    return mean, std\n",
    "\n",
    "def create_tf_numerical_feature_cols(numerical_col_list, train_df):\n",
    "    tf_numeric_col_list = []\n",
    "    for c in numerical_col_list:\n",
    "        mean, std = calculate_stats_from_train_data(train_df, c)\n",
    "        tf_numeric_feature = create_tf_numeric_feature(c, mean, std)\n",
    "        tf_numeric_col_list.append(tf_numeric_feature)\n",
    "    return tf_numeric_col_list"
   ]
  },
  {
   "cell_type": "code",
   "execution_count": 39,
   "metadata": {},
   "outputs": [
    {
     "ename": "ValueError",
     "evalue": "could not convert string to float: 'num_lab_procedures'",
     "output_type": "error",
     "traceback": [
      "\u001b[1;31m---------------------------------------------------------------------------\u001b[0m",
      "\u001b[1;31mValueError\u001b[0m                                Traceback (most recent call last)",
      "Cell \u001b[1;32mIn[39], line 1\u001b[0m\n\u001b[1;32m----> 1\u001b[0m tf_cont_col_list \u001b[38;5;241m=\u001b[39m \u001b[43mcreate_tf_numerical_feature_cols\u001b[49m\u001b[43m(\u001b[49m\u001b[43mstudent_numerical_col_list\u001b[49m\u001b[43m,\u001b[49m\u001b[43m \u001b[49m\u001b[43md_train\u001b[49m\u001b[43m)\u001b[49m\n",
      "Cell \u001b[1;32mIn[38], line 10\u001b[0m, in \u001b[0;36mcreate_tf_numerical_feature_cols\u001b[1;34m(numerical_col_list, train_df)\u001b[0m\n\u001b[0;32m      8\u001b[0m \u001b[38;5;28;01mfor\u001b[39;00m c \u001b[38;5;129;01min\u001b[39;00m numerical_col_list:\n\u001b[0;32m      9\u001b[0m     mean, std \u001b[38;5;241m=\u001b[39m calculate_stats_from_train_data(train_df, c)\n\u001b[1;32m---> 10\u001b[0m     tf_numeric_feature \u001b[38;5;241m=\u001b[39m \u001b[43mcreate_tf_numeric_feature\u001b[49m\u001b[43m(\u001b[49m\u001b[43mc\u001b[49m\u001b[43m,\u001b[49m\u001b[43m \u001b[49m\u001b[43mmean\u001b[49m\u001b[43m,\u001b[49m\u001b[43m \u001b[49m\u001b[43mstd\u001b[49m\u001b[43m)\u001b[49m\n\u001b[0;32m     11\u001b[0m     tf_numeric_col_list\u001b[38;5;241m.\u001b[39mappend(tf_numeric_feature)\n\u001b[0;32m     12\u001b[0m \u001b[38;5;28;01mreturn\u001b[39;00m tf_numeric_col_list\n",
      "File \u001b[1;32m~\\diabetes_proj\\student_utils.py:106\u001b[0m, in \u001b[0;36mcreate_tf_numeric_feature\u001b[1;34m(col, MEAN, STD, default_value)\u001b[0m\n\u001b[0;32m     93\u001b[0m \u001b[38;5;28;01mdef\u001b[39;00m \u001b[38;5;21mcreate_tf_numeric_feature\u001b[39m(col, MEAN, STD, default_value\u001b[38;5;241m=\u001b[39m\u001b[38;5;241m0\u001b[39m):\n\u001b[0;32m     94\u001b[0m     \u001b[38;5;124;03m'''\u001b[39;00m\n\u001b[0;32m     95\u001b[0m \u001b[38;5;124;03m    col: string, input numerical column name\u001b[39;00m\n\u001b[0;32m     96\u001b[0m \u001b[38;5;124;03m    MEAN: the mean for the column in the training data\u001b[39;00m\n\u001b[1;32m   (...)\u001b[0m\n\u001b[0;32m    101\u001b[0m \u001b[38;5;124;03m        tf_numeric_feature: tf feature column representation of the input field\u001b[39;00m\n\u001b[0;32m    102\u001b[0m \u001b[38;5;124;03m    '''\u001b[39;00m\n\u001b[0;32m    103\u001b[0m     tf_numeric_feature \u001b[38;5;241m=\u001b[39m tf\u001b[38;5;241m.\u001b[39mfeature_column\u001b[38;5;241m.\u001b[39mnumeric_column(\n\u001b[0;32m    104\u001b[0m         key\u001b[38;5;241m=\u001b[39mcol, \n\u001b[0;32m    105\u001b[0m         default_value\u001b[38;5;241m=\u001b[39mdefault_value, \n\u001b[1;32m--> 106\u001b[0m         normalizer_fn\u001b[38;5;241m=\u001b[39m\u001b[43mnormalize_numeric_with_zscore\u001b[49m\u001b[43m(\u001b[49m\u001b[43mcol\u001b[49m\u001b[43m,\u001b[49m\u001b[43m \u001b[49m\u001b[43mMEAN\u001b[49m\u001b[43m,\u001b[49m\u001b[43m \u001b[49m\u001b[43mSTD\u001b[49m\u001b[43m)\u001b[49m\n\u001b[0;32m    107\u001b[0m     )\n\u001b[0;32m    109\u001b[0m     \u001b[38;5;28;01mreturn\u001b[39;00m tf_numeric_feature\n",
      "File \u001b[1;32m~\\diabetes_proj\\student_utils.py:87\u001b[0m, in \u001b[0;36mnormalize_numeric_with_zscore\u001b[1;34m(col, mean, std)\u001b[0m\n\u001b[0;32m     83\u001b[0m \u001b[38;5;28;01mdef\u001b[39;00m \u001b[38;5;21mnormalize_numeric_with_zscore\u001b[39m(col, mean, std):\n\u001b[0;32m     84\u001b[0m     \u001b[38;5;124;03m'''\u001b[39;00m\n\u001b[0;32m     85\u001b[0m \u001b[38;5;124;03m    This function can be used in conjunction with the tf feature column for normalization\u001b[39;00m\n\u001b[0;32m     86\u001b[0m \u001b[38;5;124;03m    '''\u001b[39;00m\n\u001b[1;32m---> 87\u001b[0m     zscore \u001b[38;5;241m=\u001b[39m (\u001b[38;5;28;43mfloat\u001b[39;49m\u001b[43m(\u001b[49m\u001b[43mcol\u001b[49m\u001b[43m)\u001b[49m \u001b[38;5;241m-\u001b[39m \u001b[38;5;28mfloat\u001b[39m(mean))\u001b[38;5;241m/\u001b[39mstd\n\u001b[0;32m     89\u001b[0m     \u001b[38;5;28;01mreturn\u001b[39;00m zscore\n",
      "\u001b[1;31mValueError\u001b[0m: could not convert string to float: 'num_lab_procedures'"
     ]
    }
   ],
   "source": [
    "tf_cont_col_list = create_tf_numerical_feature_cols(student_numerical_col_list, d_train)"
   ]
  },
  {
   "cell_type": "code",
   "execution_count": null,
   "metadata": {},
   "outputs": [],
   "source": [
    "test_cont_var1 = tf_cont_col_list[0]\n",
    "print(\"Example continuous field:\\n{}\\n\".format(test_cont_var1))\n",
    "demo(test_cont_var1, diabetes_batch)"
   ]
  },
  {
   "cell_type": "markdown",
   "metadata": {},
   "source": [
    "# 6. Build Deep Learning Regression Model with Sequential API and TF Probability Layers"
   ]
  },
  {
   "cell_type": "markdown",
   "metadata": {},
   "source": [
    "## Use DenseFeatures to combine features for model"
   ]
  },
  {
   "cell_type": "markdown",
   "metadata": {},
   "source": [
    "Now that we have prepared categorical and numerical features using Tensorflow's Feature Column API, we can combine them into a dense vector representation for the model. Below we will create this new input layer, which we will call 'claim_feature_layer'."
   ]
  },
  {
   "cell_type": "code",
   "execution_count": null,
   "metadata": {},
   "outputs": [],
   "source": [
    "claim_feature_columns = tf_cat_col_list + tf_cont_col_list\n",
    "claim_feature_layer = tf.keras.layers.DenseFeatures(claim_feature_columns)"
   ]
  },
  {
   "cell_type": "markdown",
   "metadata": {},
   "source": [
    "## Build Sequential API Model from DenseFeatures and TF Probability Layers"
   ]
  },
  {
   "cell_type": "markdown",
   "metadata": {},
   "source": [
    "Below we have provided some boilerplate code for building a model that connects the Sequential API, DenseFeatures, and Tensorflow Probability layers into a deep learning model. There are many opportunities to further optimize and explore different architectures through benchmarking and testing approaches in various research papers, loss and evaluation metrics, learning curves, hyperparameter tuning, TF probability layers, etc. Feel free to modify and explore as you wish."
   ]
  },
  {
   "cell_type": "markdown",
   "metadata": {},
   "source": [
    "**OPTIONAL**: Come up with a more optimal neural network architecture and hyperparameters. Share the process in discovering the architecture and hyperparameters."
   ]
  },
  {
   "cell_type": "code",
   "execution_count": null,
   "metadata": {},
   "outputs": [],
   "source": [
    "def build_sequential_model(feature_layer):\n",
    "    model = tf.keras.Sequential([\n",
    "        feature_layer,\n",
    "        tf.keras.layers.Dense(150, activation='relu'),\n",
    "        tf.keras.layers.Dense(75, activation='relu'),\n",
    "        tfp.layers.DenseVariational(1+1, posterior_mean_field, prior_trainable),\n",
    "        tfp.layers.DistributionLambda(\n",
    "            lambda t:tfp.distributions.Normal(loc=t[..., :1],\n",
    "                                             scale=1e-3 + tf.math.softplus(0.01 * t[...,1:])\n",
    "                                             )\n",
    "        ),\n",
    "    ])\n",
    "    return model\n",
    "\n",
    "def build_diabetes_model(train_ds, val_ds,  feature_layer,  epochs=5, loss_metric='mse'):\n",
    "    model = build_sequential_model(feature_layer)\n",
    "    model.compile(optimizer='rmsprop', loss=loss_metric, metrics=[loss_metric])\n",
    "    early_stop = tf.keras.callbacks.EarlyStopping(monitor=loss_metric, patience=3)     \n",
    "    history = model.fit(train_ds, validation_data=val_ds,\n",
    "                        callbacks=[early_stop],\n",
    "                        epochs=epochs)\n",
    "    return model, history "
   ]
  },
  {
   "cell_type": "code",
   "execution_count": null,
   "metadata": {},
   "outputs": [],
   "source": [
    "diabetes_model, history = build_diabetes_model(diabetes_train_ds, diabetes_val_ds,  claim_feature_layer,  epochs=10)"
   ]
  },
  {
   "cell_type": "markdown",
   "metadata": {},
   "source": [
    "## Show Model Uncertainty Range with TF Probability"
   ]
  },
  {
   "cell_type": "markdown",
   "metadata": {},
   "source": [
    "**Question 9**: Now that we have trained a model with TF Probability layers, we can extract the mean and standard deviation for each prediction. Please fill in the answer for the m and s variables below. The code for getting the predictions is provided for you below."
   ]
  },
  {
   "cell_type": "code",
   "execution_count": null,
   "metadata": {},
   "outputs": [],
   "source": [
    "feature_list = student_categorical_col_list + student_numerical_col_list\n",
    "diabetes_x_tst = dict(d_test[feature_list])\n",
    "diabetes_yhat = diabetes_model(diabetes_x_tst)\n",
    "preds = diabetes_model.predict(diabetes_test_ds)"
   ]
  },
  {
   "cell_type": "code",
   "execution_count": null,
   "metadata": {},
   "outputs": [],
   "source": [
    "from student_utils import get_mean_std_from_preds\n",
    "m, s = get_mean_std_from_preds(diabetes_yhat)"
   ]
  },
  {
   "cell_type": "markdown",
   "metadata": {},
   "source": [
    "## Show Prediction Output "
   ]
  },
  {
   "cell_type": "code",
   "execution_count": null,
   "metadata": {},
   "outputs": [],
   "source": [
    "prob_outputs = {\n",
    "    \"pred\": preds.flatten(),\n",
    "    \"actual_value\": d_test['time_in_hospital'].values,\n",
    "    \"pred_mean\": m.numpy().flatten(),\n",
    "    \"pred_std\": s.numpy().flatten()\n",
    "}\n",
    "prob_output_df = pd.DataFrame(prob_outputs)"
   ]
  },
  {
   "cell_type": "code",
   "execution_count": null,
   "metadata": {},
   "outputs": [],
   "source": [
    "prob_output_df.head()"
   ]
  },
  {
   "cell_type": "markdown",
   "metadata": {},
   "source": [
    "## Convert Regression Output to Classification Output for Patient Selection"
   ]
  },
  {
   "cell_type": "markdown",
   "metadata": {},
   "source": [
    "**Question 10**: Given the output predictions, convert it to a binary label for whether the patient meets the time criteria or does not (HINT: use the mean prediction numpy array). The expected output is a numpy array with a 1 or 0 based off if the prediction meets or doesnt meet the criteria."
   ]
  },
  {
   "cell_type": "code",
   "execution_count": null,
   "metadata": {},
   "outputs": [],
   "source": [
    "from student_utils import get_student_binary_prediction\n",
    "student_binary_prediction = get_student_binary_prediction(prob_output_df, 'pred_mean')"
   ]
  },
  {
   "cell_type": "markdown",
   "metadata": {},
   "source": [
    "### Add Binary Prediction to Test Dataframe"
   ]
  },
  {
   "cell_type": "markdown",
   "metadata": {},
   "source": [
    "Using the student_binary_prediction output that is a numpy array with binary labels, we can use this to add to a dataframe to better visualize and also to prepare the data for the Aequitas toolkit. The Aequitas toolkit requires that the predictions be mapped to a binary label for the predictions (called 'score' field) and the actual value (called 'label_value')."
   ]
  },
  {
   "cell_type": "code",
   "execution_count": null,
   "metadata": {},
   "outputs": [],
   "source": [
    "def add_pred_to_test(test_df, pred_np, demo_col_list):\n",
    "    for c in demo_col_list:\n",
    "        test_df[c] = test_df[c].astype(str)\n",
    "    test_df['score'] = pred_np\n",
    "    test_df['label_value'] = test_df['time_in_hospital'].apply(lambda x: 1 if x >=5 else 0)\n",
    "    return test_df\n",
    "\n",
    "pred_test_df = add_pred_to_test(d_test, student_binary_prediction, ['race', 'gender'])"
   ]
  },
  {
   "cell_type": "code",
   "execution_count": null,
   "metadata": {},
   "outputs": [],
   "source": [
    "pred_test_df[['patient_nbr', 'gender', 'race', 'time_in_hospital', 'score', 'label_value']].head()"
   ]
  },
  {
   "cell_type": "markdown",
   "metadata": {},
   "source": [
    "## Model Evaluation Metrics "
   ]
  },
  {
   "cell_type": "markdown",
   "metadata": {},
   "source": [
    "**Question 11**: Now it is time to use the newly created binary labels in the 'pred_test_df' dataframe to evaluate the model with some common classification metrics. Please create a report summary of the performance of the model and be sure to give the ROC AUC, F1 score(weighted), class precision and recall scores. "
   ]
  },
  {
   "cell_type": "markdown",
   "metadata": {},
   "source": [
    "For the report please be sure to include the following three parts:\n",
    "- With a non-technical audience in mind, explain the precision-recall tradeoff in regard to how you have optimized your model.\n",
    "\n",
    "- What are some areas of improvement for future iterations?"
   ]
  },
  {
   "cell_type": "code",
   "execution_count": null,
   "metadata": {},
   "outputs": [],
   "source": [
    "# AUC, F1, precision and recall\n",
    "# Summary"
   ]
  },
  {
   "cell_type": "markdown",
   "metadata": {},
   "source": [
    "# 7. Evaluating Potential Model Biases with Aequitas Toolkit"
   ]
  },
  {
   "cell_type": "markdown",
   "metadata": {},
   "source": [
    "## Prepare Data For Aequitas Bias Toolkit "
   ]
  },
  {
   "cell_type": "markdown",
   "metadata": {},
   "source": [
    "Using the gender and race fields, we will prepare the data for the Aequitas Toolkit."
   ]
  },
  {
   "cell_type": "code",
   "execution_count": null,
   "metadata": {},
   "outputs": [],
   "source": [
    "# Aequitas\n",
    "from aequitas.preprocessing import preprocess_input_df\n",
    "from aequitas.group import Group\n",
    "from aequitas.plotting import Plot\n",
    "from aequitas.bias import Bias\n",
    "from aequitas.fairness import Fairness\n",
    "\n",
    "ae_subset_df = pred_test_df[['race', 'gender', 'score', 'label_value']]\n",
    "ae_df, _ = preprocess_input_df(ae_subset_df)\n",
    "g = Group()\n",
    "xtab, _ = g.get_crosstabs(ae_df)\n",
    "absolute_metrics = g.list_absolute_metrics(xtab)\n",
    "clean_xtab = xtab.fillna(-1)\n",
    "aqp = Plot()\n",
    "b = Bias()\n"
   ]
  },
  {
   "cell_type": "markdown",
   "metadata": {},
   "source": [
    "## Reference Group Selection"
   ]
  },
  {
   "cell_type": "markdown",
   "metadata": {},
   "source": [
    "Below we have chosen the reference group for our analysis but feel free to select another one."
   ]
  },
  {
   "cell_type": "code",
   "execution_count": null,
   "metadata": {},
   "outputs": [],
   "source": [
    "# test reference group with Caucasian Male\n",
    "bdf = b.get_disparity_predefined_groups(clean_xtab, \n",
    "                    original_df=ae_df, \n",
    "                    ref_groups_dict={'race':'Caucasian', 'gender':'Male'\n",
    "                                     }, \n",
    "                    alpha=0.05, \n",
    "                    check_significance=False)\n",
    "\n",
    "\n",
    "f = Fairness()\n",
    "fdf = f.get_group_value_fairness(bdf)"
   ]
  },
  {
   "cell_type": "markdown",
   "metadata": {},
   "source": [
    "## Race and Gender Bias Analysis for Patient Selection"
   ]
  },
  {
   "cell_type": "markdown",
   "metadata": {},
   "source": [
    "**Question 12**: For the gender and race fields, please plot two metrics that are important for patient selection below and state whether there is a significant bias in your model across any of the groups along with justification for your statement."
   ]
  },
  {
   "cell_type": "code",
   "execution_count": null,
   "metadata": {},
   "outputs": [],
   "source": [
    "# Plot two metrics\n",
    "\n",
    "# Is there significant bias in your model for either race or gender?"
   ]
  },
  {
   "cell_type": "markdown",
   "metadata": {},
   "source": [
    "## Fairness Analysis Example - Relative to a Reference Group "
   ]
  },
  {
   "cell_type": "markdown",
   "metadata": {},
   "source": [
    "**Question 13**: Earlier we defined our reference group and then calculated disparity metrics relative to this grouping. Please provide a visualization of the fairness evaluation for this reference group and analyze whether there is disparity."
   ]
  },
  {
   "cell_type": "code",
   "execution_count": null,
   "metadata": {},
   "outputs": [],
   "source": [
    "# Reference group fairness plot"
   ]
  }
 ],
 "metadata": {
  "kernelspec": {
   "display_name": "Python 3 (ipykernel)",
   "language": "python",
   "name": "python3"
  },
  "language_info": {
   "codemirror_mode": {
    "name": "ipython",
    "version": 3
   },
   "file_extension": ".py",
   "mimetype": "text/x-python",
   "name": "python",
   "nbconvert_exporter": "python",
   "pygments_lexer": "ipython3",
   "version": "3.10.9"
  }
 },
 "nbformat": 4,
 "nbformat_minor": 2
}
